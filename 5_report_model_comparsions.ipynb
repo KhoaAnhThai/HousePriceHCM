{
  "cells": [
    {
      "cell_type": "code",
      "execution_count": 1,
      "metadata": {
        "colab": {
          "base_uri": "https://localhost:8080/"
        },
        "id": "Nx-cO6YduVN-",
        "outputId": "91ab15af-d08c-41ca-c690-5eed64651e4d"
      },
      "outputs": [
        {
          "name": "stdout",
          "output_type": "stream",
          "text": [
            "\u001b[2K     \u001b[90m━━━━━━━━━━━━━━━━━━━━━━━━━━━━━━━━━━━━━━━━\u001b[0m \u001b[32m81.9/81.9 kB\u001b[0m \u001b[31m1.4 MB/s\u001b[0m eta \u001b[36m0:00:00\u001b[0m\n",
            "\u001b[2K     \u001b[90m━━━━━━━━━━━━━━━━━━━━━━━━━━━━━━━━━━━━━━━━\u001b[0m \u001b[32m13.3/13.3 MB\u001b[0m \u001b[31m17.4 MB/s\u001b[0m eta \u001b[36m0:00:00\u001b[0m\n",
            "\u001b[?25h"
          ]
        }
      ],
      "source": [
        "!pip install category_encoders --quiet\n",
        "# Update sklearn\n",
        "!pip uninstall scikit-learn -y --quiet\n",
        "!pip install -U scikit-learn --quiet"
      ]
    },
    {
      "cell_type": "code",
      "execution_count": 64,
      "metadata": {
        "id": "xlUexzfHpSip"
      },
      "outputs": [],
      "source": [
        "import pandas as pd\n",
        "from sklearn.ensemble import RandomForestRegressor, HistGradientBoostingRegressor\n",
        "from sklearn.neighbors import KNeighborsRegressor\n",
        "from sklearn.pipeline import Pipeline,make_pipeline\n",
        "from sklearn.base import BaseEstimator, TransformerMixin\n",
        "from sklearn.impute import SimpleImputer, KNNImputer\n",
        "from sklearn.feature_selection import SelectKBest,chi2\n",
        "from sklearn.model_selection import KFold, cross_validate\n",
        "from sklearn.compose import ColumnTransformer\n",
        "from sklearn.preprocessing import MinMaxScaler, StandardScaler, OneHotEncoder\n",
        "from sklearn.tree import DecisionTreeRegressor\n",
        "from sklearn.preprocessing import FunctionTransformer, OrdinalEncoder\n",
        "from sklearn.model_selection import cross_validate\n",
        "from category_encoders import TargetEncoder\n",
        "from sklearn.linear_model import LinearRegression,Lasso,Ridge\n",
        "import numpy as np\n",
        "import pickle\n",
        "import matplotlib.pyplot as plt"
      ]
    },
    {
      "cell_type": "code",
      "execution_count": 65,
      "metadata": {
        "id": "TZrC4PKsYRGk"
      },
      "outputs": [],
      "source": [
        "data = pd.read_csv('https://raw.githubusercontent.com/KhiemDangLe/Final-Project/main/DataFolder/5_preprocessed_data.csv')\n",
        "df_location = pd.read_csv('https://raw.githubusercontent.com/KhiemDangLe/Final-Project/main/DataFolder/7_coordinates_by_street_name_1_5000.csv')\n",
        "df_location2 = pd.read_csv('https://raw.githubusercontent.com/KhiemDangLe/Final-Project/main/DataFolder/8_coordinates_by_street_nam_5000_end.csv')\n",
        "\n",
        "merged_df1 = pd.merge(data, df_location[['article_id', 'longitude', 'latitude']], on='article_id', how='inner')\n",
        "merged_df2 = pd.merge(data, df_location2[['article_id', 'longitude', 'latitude']], on='article_id', how='inner')\n",
        "merged_df = pd.concat([merged_df1, merged_df2], ignore_index=True)\n",
        "\n",
        "y = merged_df['price'].copy()\n",
        "X = merged_df.drop('price',axis=1).copy()"
      ]
    },
    {
      "cell_type": "code",
      "execution_count": 66,
      "metadata": {
        "colab": {
          "base_uri": "https://localhost:8080/"
        },
        "id": "hvYKLk0dzr-6",
        "outputId": "094ecd99-e28e-494b-a5a5-f27a334bc05d"
      },
      "outputs": [
        {
          "name": "stdout",
          "output_type": "stream",
          "text": [
            "<class 'pandas.core.frame.DataFrame'>\n",
            "RangeIndex: 5389 entries, 0 to 5388\n",
            "Data columns (total 22 columns):\n",
            " #   Column              Non-Null Count  Dtype  \n",
            "---  ------              --------------  -----  \n",
            " 0   article_id          5389 non-null   int64  \n",
            " 1   category            5389 non-null   object \n",
            " 2   phone               5388 non-null   float64\n",
            " 3   district            5389 non-null   object \n",
            " 4   date_posted         5389 non-null   object \n",
            " 5   area                5389 non-null   float64\n",
            " 6   bedroom             4827 non-null   float64\n",
            " 7   wc                  4426 non-null   float64\n",
            " 8   direction           564 non-null    object \n",
            " 9   balcony_direction   233 non-null    object \n",
            " 10  total_room_LLm      2778 non-null   float64\n",
            " 11  count_conveniences  5389 non-null   int64  \n",
            " 12  alleyway_property   4695 non-null   float64\n",
            " 13  under_mortgage      962 non-null    float64\n",
            " 14  furnished           1388 non-null   float64\n",
            " 15  has_lowerlevel      1376 non-null   float64\n",
            " 16  has_rooftop         1894 non-null   float64\n",
            " 17  numbers_of_floors   5027 non-null   float64\n",
            " 18  street_name         5064 non-null   object \n",
            " 19  price_per_m2        5389 non-null   float64\n",
            " 20  longitude           4097 non-null   float64\n",
            " 21  latitude            4097 non-null   float64\n",
            "dtypes: float64(14), int64(2), object(6)\n",
            "memory usage: 926.4+ KB\n"
          ]
        }
      ],
      "source": [
        "X.info()"
      ]
    },
    {
      "cell_type": "markdown",
      "metadata": {
        "id": "IywQ3-SMtPfR"
      },
      "source": [
        "# **1. Tạo pipeline**"
      ]
    },
    {
      "cell_type": "markdown",
      "metadata": {
        "id": "UGq6QAQchsKz"
      },
      "source": [
        "## **a) Linear regression**"
      ]
    },
    {
      "cell_type": "code",
      "execution_count": 67,
      "metadata": {
        "id": "3vWzmEeE26lD"
      },
      "outputs": [],
      "source": [
        "# Những cột được chọn sau khi thực hiện bước Feature Selection\n",
        "select_cols_for_lr = ['area', 'bedroom', 'wc', 'total_room_LLm', 'count_conveniences', 'alleyway_property', 'numbers_of_floors', 'longitude', 'latitude']\n",
        "\n",
        "# Tạo class để lọc ra cột\n",
        "class ColumnSelector(BaseEstimator, TransformerMixin):\n",
        "    def __init__(self, subset):\n",
        "        self.subset = subset\n",
        "\n",
        "    def fit(self, X, y=None):\n",
        "        return self\n",
        "\n",
        "    def transform(self, X, y=None):\n",
        "        return X.loc[:, self.subset]"
      ]
    },
    {
      "cell_type": "code",
      "execution_count": 68,
      "metadata": {
        "id": "AHLdOO8c04A2"
      },
      "outputs": [],
      "source": [
        "linear_regression_pipeline = Pipeline(steps=[\n",
        "    ('column_selector', ColumnSelector(subset=select_cols_for_lr)),\n",
        "    ('imputer', SimpleImputer(strategy='mean')),\n",
        "    ('scaler', MinMaxScaler()),\n",
        "    ('linear_regression', LinearRegression())\n",
        "])"
      ]
    },
    {
      "cell_type": "code",
      "execution_count": 69,
      "metadata": {
        "colab": {
          "base_uri": "https://localhost:8080/"
        },
        "id": "WlRJLFdS79qq",
        "outputId": "8c6bd2f6-728e-42d9-cb7c-4f653b80009b"
      },
      "outputs": [
        {
          "name": "stdout",
          "output_type": "stream",
          "text": [
            "Coefficients: {'article_id': 3.817446019881465, 'category': 1.8499497778971943, 'phone': 3.0337133260351337, 'district': -0.25064922522952815, 'date_posted': -0.857208616225182, 'area': 0.8833177409556768, 'bedroom': 2.273005498979601, 'wc': 2.023779261880671, 'direction': -0.8693666915433332}\n"
          ]
        }
      ],
      "source": [
        "linear_regression_pipeline.fit(X, y)\n",
        "coefficients = linear_regression_pipeline.named_steps['linear_regression'].coef_\n",
        "\n",
        "coef_dict_baseline = {}\n",
        "for coef, feat in zip(coefficients, X.columns):\n",
        "    coef_dict_baseline[feat] = coef\n",
        "\n",
        "print(\"Coefficients:\", coef_dict_baseline)"
      ]
    },
    {
      "cell_type": "markdown",
      "metadata": {
        "id": "YASWKBIhhtth"
      },
      "source": [
        "## **b) Lasso regression**"
      ]
    },
    {
      "cell_type": "code",
      "execution_count": 70,
      "metadata": {
        "id": "HYFUyo1viqHY"
      },
      "outputs": [],
      "source": [
        "lasso_regression_pipeline = Pipeline(steps=[\n",
        "    ('custom_selector', ColumnSelector(subset=select_cols_for_lr)),\n",
        "    ('imputer', SimpleImputer(strategy='mean')),\n",
        "    ('scaler', StandardScaler()),\n",
        "    ('lasso_regression', Lasso(alpha=0.0012949258422052632))\n",
        "])"
      ]
    },
    {
      "cell_type": "code",
      "execution_count": 71,
      "metadata": {
        "colab": {
          "base_uri": "https://localhost:8080/"
        },
        "id": "l79x-5_C8Fs_",
        "outputId": "1f9e346d-d25e-4aa4-e53f-4a8238f0c333"
      },
      "outputs": [
        {
          "name": "stdout",
          "output_type": "stream",
          "text": [
            "Coefficients với StandardScaler: {'article_id': 0.6014103734627175, 'category': 0.32048817067765223, 'phone': 0.5528246226043613, 'district': -0.028373881797733914, 'date_posted': -0.20575272632783975, 'area': 0.04039610627151446, 'bedroom': 0.31618024874493417, 'wc': 0.22164344558281732, 'direction': -0.08594314895875126}\n"
          ]
        }
      ],
      "source": [
        "lasso_regression_pipeline.fit(X, y)\n",
        "coefficients = lasso_regression_pipeline.named_steps['lasso_regression'].coef_\n",
        "\n",
        "coef_dict_baseline = {}\n",
        "for coef, feat in zip(coefficients, X.columns):\n",
        "    coef_dict_baseline[feat] = coef\n",
        "\n",
        "print(\"Coefficients với StandardScaler:\", coef_dict_baseline)"
      ]
    },
    {
      "cell_type": "markdown",
      "metadata": {
        "id": "8VZ0I9t3iDhX"
      },
      "source": [
        "## **c) Ridge regression**"
      ]
    },
    {
      "cell_type": "code",
      "execution_count": 72,
      "metadata": {
        "id": "aaeUZ8ARiqoP"
      },
      "outputs": [],
      "source": [
        "ridge_regression_pipeline = Pipeline(steps=[\n",
        "    ('custom_selector', ColumnSelector(subset=select_cols_for_lr)),\n",
        "    ('imputer', SimpleImputer(strategy='mean')),\n",
        "    # đồi với ridge thì phù hợp với MinMaxScaler hơn\n",
        "    ('scaler',  MinMaxScaler()),\n",
        "    ('ridge_regression', Ridge(alpha=5.000110381399524))\n",
        "])"
      ]
    },
    {
      "cell_type": "code",
      "execution_count": 73,
      "metadata": {
        "colab": {
          "base_uri": "https://localhost:8080/"
        },
        "id": "80IInwv783Th",
        "outputId": "fe0d4d7f-93bd-4f22-a6e0-33cd33b356f2"
      },
      "outputs": [
        {
          "name": "stdout",
          "output_type": "stream",
          "text": [
            "Coefficients với MinMaxScaler: {'article_id': 3.667250765090656, 'category': 1.9048999230956893, 'phone': 2.9433443316403256, 'district': -0.17162432042065848, 'date_posted': -0.845040787660497, 'area': 0.6258092323155349, 'bedroom': 2.1830088618357255, 'wc': 1.859986296304879, 'direction': -0.7394000915692723}\n"
          ]
        }
      ],
      "source": [
        "ridge_regression_pipeline.fit(X, y)\n",
        "coefficients = ridge_regression_pipeline.named_steps['ridge_regression'].coef_\n",
        "\n",
        "coef_dict_baseline = {}\n",
        "for coef, feat in zip(coefficients, X.columns):\n",
        "    coef_dict_baseline[feat] = coef\n",
        "\n",
        "print(\"Coefficients với MinMaxScaler:\", coef_dict_baseline)"
      ]
    },
    {
      "cell_type": "markdown",
      "metadata": {
        "id": "_tv0poaQhf-Q"
      },
      "source": [
        "## **d) K-Nearest Neighbor**"
      ]
    },
    {
      "cell_type": "code",
      "execution_count": 74,
      "metadata": {
        "id": "JrfVNkNhCC-_"
      },
      "outputs": [],
      "source": [
        "# Feature selection\n",
        "selected_cat_cols_knn = ['district']\n",
        "selected_int_cols_knn = ['area', 'bedroom', 'wc', 'numbers_of_floors']"
      ]
    },
    {
      "cell_type": "code",
      "execution_count": 75,
      "metadata": {
        "id": "eLkATLTzo_Mz"
      },
      "outputs": [],
      "source": [
        "# Xử lí numeric\n",
        "numeric_transformer = Pipeline(steps=[\n",
        "    ('imputer', KNNImputer(n_neighbors=15)),  # Xử lý missing values bằng KNN imputation\n",
        "    ('scaler', MinMaxScaler())  # Chuẩn hóa dữ liệu về khoảng min-max\n",
        "])\n",
        "# Xử lí category\n",
        "categorical_transformer = Pipeline(steps=[\n",
        "    ('onehot', OneHotEncoder())  # One-hot encoding cho các biến phân loại\n",
        "])"
      ]
    },
    {
      "cell_type": "code",
      "execution_count": 76,
      "metadata": {
        "id": "G_kPJ1n0pPAL"
      },
      "outputs": [],
      "source": [
        "col_trans = ColumnTransformer(transformers=[\n",
        "    ('numeric_transformer', numeric_transformer, selected_int_cols_knn),\n",
        "    ('categorical_transformer', categorical_transformer, selected_cat_cols_knn)\n",
        "], remainder='drop', n_jobs=-1)\n",
        "\n",
        "# Định nghĩa pipeline cho toàn bộ quy trình từ tiền xử lý đến mô hình hóa\n",
        "knn_pipeline = Pipeline(steps=[\n",
        "    ('col_trans', col_trans),\n",
        "    ('regressor', KNeighborsRegressor(n_neighbors=10,metric = 'manhattan'))\n",
        "])\n"
      ]
    },
    {
      "cell_type": "markdown",
      "metadata": {
        "id": "XNIFOt1HdFsl"
      },
      "source": [
        "## **e) Regression tree**"
      ]
    },
    {
      "cell_type": "code",
      "execution_count": 77,
      "metadata": {
        "id": "Mw569piYuu8U"
      },
      "outputs": [],
      "source": [
        "imputed_cols_for_rt_rd =['area', 'bedroom', 'wc', 'numbers_of_floors']\n",
        "encoded_cols_for_rt_rd = ['district']\n",
        "\n",
        "preprocessing_for_rt_rd = ColumnTransformer(\n",
        "    transformers=[\n",
        "        ('impute_age', SimpleImputer(), imputed_cols_for_rt_rd),\n",
        "        ('target_encode_district', TargetEncoder(), encoded_cols_for_rt_rd)\n",
        "    ],\n",
        "    remainder='drop'\n",
        ")\n",
        "\n",
        "regression_tree_pipeline = Pipeline([\n",
        "    ('preprocessor', preprocessing_for_rt_rd),\n",
        "    ('decisiontreeregressor', DecisionTreeRegressor(max_depth=10,min_samples_leaf=1,min_samples_split=8))\n",
        "])"
      ]
    },
    {
      "cell_type": "markdown",
      "metadata": {
        "id": "54N13EzgWQ8N"
      },
      "source": [
        "## **f) Random forest**"
      ]
    },
    {
      "cell_type": "code",
      "execution_count": 78,
      "metadata": {
        "id": "ZCnpQy1oD3HR"
      },
      "outputs": [],
      "source": [
        "random_forest_pipeline = Pipeline([\n",
        "    ('preprocessor', preprocessing_for_rt_rd),\n",
        "    ('randomforestregressor', RandomForestRegressor(n_estimators=100,min_samples_split=2,max_depth=10,max_features=0.5))\n",
        "])"
      ]
    },
    {
      "cell_type": "markdown",
      "metadata": {
        "id": "toDjOFyShpRR"
      },
      "source": [
        "## **g) Gradient boosting**"
      ]
    },
    {
      "cell_type": "code",
      "execution_count": 79,
      "metadata": {
        "id": "9rai991sX_f7"
      },
      "outputs": [],
      "source": [
        "# Những cột được chọn sau khi thực hiện bước Feature Selection\n",
        "selected_int_cols = ['area']\n",
        "selected_cat_cols = ['district', 'direction', 'bedroom', 'wc', 'numbers_of_floors', 'count_conveniences', 'has_rooftop', 'total_room_LLm', 'furnished' ]\n",
        "\n",
        "def to_categorical(df):\n",
        "    return pd.DataFrame(df).astype('category')\n",
        "\n",
        "# Sử dụng ColumnTransformer để xử lý riêng từng cột\n",
        "transform_type_cols = ColumnTransformer([\n",
        "    ('to_categorical', FunctionTransformer(to_categorical), selected_cat_cols),\n",
        "    ('int_cols', 'passthrough', selected_int_cols)\n",
        "], remainder = 'drop')\n",
        "\n",
        "hist_native_pipeline = Pipeline([\n",
        "    ('transform_type_cols', transform_type_cols),\n",
        "    ('model', HistGradientBoostingRegressor(loss = 'squared_error', random_state=42, early_stopping=False))\n",
        "])"
      ]
    },
    {
      "cell_type": "code",
      "execution_count": 80,
      "metadata": {
        "colab": {
          "base_uri": "https://localhost:8080/",
          "height": 220
        },
        "id": "nifiJTXYxY4F",
        "outputId": "c6f4faeb-d5c9-455b-d9c1-728f8c24d4d2"
      },
      "outputs": [
        {
          "data": {
            "text/html": [
              "<style>#sk-container-id-4 {\n",
              "  /* Definition of color scheme common for light and dark mode */\n",
              "  --sklearn-color-text: black;\n",
              "  --sklearn-color-line: gray;\n",
              "  /* Definition of color scheme for unfitted estimators */\n",
              "  --sklearn-color-unfitted-level-0: #fff5e6;\n",
              "  --sklearn-color-unfitted-level-1: #f6e4d2;\n",
              "  --sklearn-color-unfitted-level-2: #ffe0b3;\n",
              "  --sklearn-color-unfitted-level-3: chocolate;\n",
              "  /* Definition of color scheme for fitted estimators */\n",
              "  --sklearn-color-fitted-level-0: #f0f8ff;\n",
              "  --sklearn-color-fitted-level-1: #d4ebff;\n",
              "  --sklearn-color-fitted-level-2: #b3dbfd;\n",
              "  --sklearn-color-fitted-level-3: cornflowerblue;\n",
              "\n",
              "  /* Specific color for light theme */\n",
              "  --sklearn-color-text-on-default-background: var(--sg-text-color, var(--theme-code-foreground, var(--jp-content-font-color1, black)));\n",
              "  --sklearn-color-background: var(--sg-background-color, var(--theme-background, var(--jp-layout-color0, white)));\n",
              "  --sklearn-color-border-box: var(--sg-text-color, var(--theme-code-foreground, var(--jp-content-font-color1, black)));\n",
              "  --sklearn-color-icon: #696969;\n",
              "\n",
              "  @media (prefers-color-scheme: dark) {\n",
              "    /* Redefinition of color scheme for dark theme */\n",
              "    --sklearn-color-text-on-default-background: var(--sg-text-color, var(--theme-code-foreground, var(--jp-content-font-color1, white)));\n",
              "    --sklearn-color-background: var(--sg-background-color, var(--theme-background, var(--jp-layout-color0, #111)));\n",
              "    --sklearn-color-border-box: var(--sg-text-color, var(--theme-code-foreground, var(--jp-content-font-color1, white)));\n",
              "    --sklearn-color-icon: #878787;\n",
              "  }\n",
              "}\n",
              "\n",
              "#sk-container-id-4 {\n",
              "  color: var(--sklearn-color-text);\n",
              "}\n",
              "\n",
              "#sk-container-id-4 pre {\n",
              "  padding: 0;\n",
              "}\n",
              "\n",
              "#sk-container-id-4 input.sk-hidden--visually {\n",
              "  border: 0;\n",
              "  clip: rect(1px 1px 1px 1px);\n",
              "  clip: rect(1px, 1px, 1px, 1px);\n",
              "  height: 1px;\n",
              "  margin: -1px;\n",
              "  overflow: hidden;\n",
              "  padding: 0;\n",
              "  position: absolute;\n",
              "  width: 1px;\n",
              "}\n",
              "\n",
              "#sk-container-id-4 div.sk-dashed-wrapped {\n",
              "  border: 1px dashed var(--sklearn-color-line);\n",
              "  margin: 0 0.4em 0.5em 0.4em;\n",
              "  box-sizing: border-box;\n",
              "  padding-bottom: 0.4em;\n",
              "  background-color: var(--sklearn-color-background);\n",
              "}\n",
              "\n",
              "#sk-container-id-4 div.sk-container {\n",
              "  /* jupyter's `normalize.less` sets `[hidden] { display: none; }`\n",
              "     but bootstrap.min.css set `[hidden] { display: none !important; }`\n",
              "     so we also need the `!important` here to be able to override the\n",
              "     default hidden behavior on the sphinx rendered scikit-learn.org.\n",
              "     See: https://github.com/scikit-learn/scikit-learn/issues/21755 */\n",
              "  display: inline-block !important;\n",
              "  position: relative;\n",
              "}\n",
              "\n",
              "#sk-container-id-4 div.sk-text-repr-fallback {\n",
              "  display: none;\n",
              "}\n",
              "\n",
              "div.sk-parallel-item,\n",
              "div.sk-serial,\n",
              "div.sk-item {\n",
              "  /* draw centered vertical line to link estimators */\n",
              "  background-image: linear-gradient(var(--sklearn-color-text-on-default-background), var(--sklearn-color-text-on-default-background));\n",
              "  background-size: 2px 100%;\n",
              "  background-repeat: no-repeat;\n",
              "  background-position: center center;\n",
              "}\n",
              "\n",
              "/* Parallel-specific style estimator block */\n",
              "\n",
              "#sk-container-id-4 div.sk-parallel-item::after {\n",
              "  content: \"\";\n",
              "  width: 100%;\n",
              "  border-bottom: 2px solid var(--sklearn-color-text-on-default-background);\n",
              "  flex-grow: 1;\n",
              "}\n",
              "\n",
              "#sk-container-id-4 div.sk-parallel {\n",
              "  display: flex;\n",
              "  align-items: stretch;\n",
              "  justify-content: center;\n",
              "  background-color: var(--sklearn-color-background);\n",
              "  position: relative;\n",
              "}\n",
              "\n",
              "#sk-container-id-4 div.sk-parallel-item {\n",
              "  display: flex;\n",
              "  flex-direction: column;\n",
              "}\n",
              "\n",
              "#sk-container-id-4 div.sk-parallel-item:first-child::after {\n",
              "  align-self: flex-end;\n",
              "  width: 50%;\n",
              "}\n",
              "\n",
              "#sk-container-id-4 div.sk-parallel-item:last-child::after {\n",
              "  align-self: flex-start;\n",
              "  width: 50%;\n",
              "}\n",
              "\n",
              "#sk-container-id-4 div.sk-parallel-item:only-child::after {\n",
              "  width: 0;\n",
              "}\n",
              "\n",
              "/* Serial-specific style estimator block */\n",
              "\n",
              "#sk-container-id-4 div.sk-serial {\n",
              "  display: flex;\n",
              "  flex-direction: column;\n",
              "  align-items: center;\n",
              "  background-color: var(--sklearn-color-background);\n",
              "  padding-right: 1em;\n",
              "  padding-left: 1em;\n",
              "}\n",
              "\n",
              "\n",
              "/* Toggleable style: style used for estimator/Pipeline/ColumnTransformer box that is\n",
              "clickable and can be expanded/collapsed.\n",
              "- Pipeline and ColumnTransformer use this feature and define the default style\n",
              "- Estimators will overwrite some part of the style using the `sk-estimator` class\n",
              "*/\n",
              "\n",
              "/* Pipeline and ColumnTransformer style (default) */\n",
              "\n",
              "#sk-container-id-4 div.sk-toggleable {\n",
              "  /* Default theme specific background. It is overwritten whether we have a\n",
              "  specific estimator or a Pipeline/ColumnTransformer */\n",
              "  background-color: var(--sklearn-color-background);\n",
              "}\n",
              "\n",
              "/* Toggleable label */\n",
              "#sk-container-id-4 label.sk-toggleable__label {\n",
              "  cursor: pointer;\n",
              "  display: block;\n",
              "  width: 100%;\n",
              "  margin-bottom: 0;\n",
              "  padding: 0.5em;\n",
              "  box-sizing: border-box;\n",
              "  text-align: center;\n",
              "}\n",
              "\n",
              "#sk-container-id-4 label.sk-toggleable__label-arrow:before {\n",
              "  /* Arrow on the left of the label */\n",
              "  content: \"▸\";\n",
              "  float: left;\n",
              "  margin-right: 0.25em;\n",
              "  color: var(--sklearn-color-icon);\n",
              "}\n",
              "\n",
              "#sk-container-id-4 label.sk-toggleable__label-arrow:hover:before {\n",
              "  color: var(--sklearn-color-text);\n",
              "}\n",
              "\n",
              "/* Toggleable content - dropdown */\n",
              "\n",
              "#sk-container-id-4 div.sk-toggleable__content {\n",
              "  max-height: 0;\n",
              "  max-width: 0;\n",
              "  overflow: hidden;\n",
              "  text-align: left;\n",
              "  /* unfitted */\n",
              "  background-color: var(--sklearn-color-unfitted-level-0);\n",
              "}\n",
              "\n",
              "#sk-container-id-4 div.sk-toggleable__content.fitted {\n",
              "  /* fitted */\n",
              "  background-color: var(--sklearn-color-fitted-level-0);\n",
              "}\n",
              "\n",
              "#sk-container-id-4 div.sk-toggleable__content pre {\n",
              "  margin: 0.2em;\n",
              "  border-radius: 0.25em;\n",
              "  color: var(--sklearn-color-text);\n",
              "  /* unfitted */\n",
              "  background-color: var(--sklearn-color-unfitted-level-0);\n",
              "}\n",
              "\n",
              "#sk-container-id-4 div.sk-toggleable__content.fitted pre {\n",
              "  /* unfitted */\n",
              "  background-color: var(--sklearn-color-fitted-level-0);\n",
              "}\n",
              "\n",
              "#sk-container-id-4 input.sk-toggleable__control:checked~div.sk-toggleable__content {\n",
              "  /* Expand drop-down */\n",
              "  max-height: 200px;\n",
              "  max-width: 100%;\n",
              "  overflow: auto;\n",
              "}\n",
              "\n",
              "#sk-container-id-4 input.sk-toggleable__control:checked~label.sk-toggleable__label-arrow:before {\n",
              "  content: \"▾\";\n",
              "}\n",
              "\n",
              "/* Pipeline/ColumnTransformer-specific style */\n",
              "\n",
              "#sk-container-id-4 div.sk-label input.sk-toggleable__control:checked~label.sk-toggleable__label {\n",
              "  color: var(--sklearn-color-text);\n",
              "  background-color: var(--sklearn-color-unfitted-level-2);\n",
              "}\n",
              "\n",
              "#sk-container-id-4 div.sk-label.fitted input.sk-toggleable__control:checked~label.sk-toggleable__label {\n",
              "  background-color: var(--sklearn-color-fitted-level-2);\n",
              "}\n",
              "\n",
              "/* Estimator-specific style */\n",
              "\n",
              "/* Colorize estimator box */\n",
              "#sk-container-id-4 div.sk-estimator input.sk-toggleable__control:checked~label.sk-toggleable__label {\n",
              "  /* unfitted */\n",
              "  background-color: var(--sklearn-color-unfitted-level-2);\n",
              "}\n",
              "\n",
              "#sk-container-id-4 div.sk-estimator.fitted input.sk-toggleable__control:checked~label.sk-toggleable__label {\n",
              "  /* fitted */\n",
              "  background-color: var(--sklearn-color-fitted-level-2);\n",
              "}\n",
              "\n",
              "#sk-container-id-4 div.sk-label label.sk-toggleable__label,\n",
              "#sk-container-id-4 div.sk-label label {\n",
              "  /* The background is the default theme color */\n",
              "  color: var(--sklearn-color-text-on-default-background);\n",
              "}\n",
              "\n",
              "/* On hover, darken the color of the background */\n",
              "#sk-container-id-4 div.sk-label:hover label.sk-toggleable__label {\n",
              "  color: var(--sklearn-color-text);\n",
              "  background-color: var(--sklearn-color-unfitted-level-2);\n",
              "}\n",
              "\n",
              "/* Label box, darken color on hover, fitted */\n",
              "#sk-container-id-4 div.sk-label.fitted:hover label.sk-toggleable__label.fitted {\n",
              "  color: var(--sklearn-color-text);\n",
              "  background-color: var(--sklearn-color-fitted-level-2);\n",
              "}\n",
              "\n",
              "/* Estimator label */\n",
              "\n",
              "#sk-container-id-4 div.sk-label label {\n",
              "  font-family: monospace;\n",
              "  font-weight: bold;\n",
              "  display: inline-block;\n",
              "  line-height: 1.2em;\n",
              "}\n",
              "\n",
              "#sk-container-id-4 div.sk-label-container {\n",
              "  text-align: center;\n",
              "}\n",
              "\n",
              "/* Estimator-specific */\n",
              "#sk-container-id-4 div.sk-estimator {\n",
              "  font-family: monospace;\n",
              "  border: 1px dotted var(--sklearn-color-border-box);\n",
              "  border-radius: 0.25em;\n",
              "  box-sizing: border-box;\n",
              "  margin-bottom: 0.5em;\n",
              "  /* unfitted */\n",
              "  background-color: var(--sklearn-color-unfitted-level-0);\n",
              "}\n",
              "\n",
              "#sk-container-id-4 div.sk-estimator.fitted {\n",
              "  /* fitted */\n",
              "  background-color: var(--sklearn-color-fitted-level-0);\n",
              "}\n",
              "\n",
              "/* on hover */\n",
              "#sk-container-id-4 div.sk-estimator:hover {\n",
              "  /* unfitted */\n",
              "  background-color: var(--sklearn-color-unfitted-level-2);\n",
              "}\n",
              "\n",
              "#sk-container-id-4 div.sk-estimator.fitted:hover {\n",
              "  /* fitted */\n",
              "  background-color: var(--sklearn-color-fitted-level-2);\n",
              "}\n",
              "\n",
              "/* Specification for estimator info (e.g. \"i\" and \"?\") */\n",
              "\n",
              "/* Common style for \"i\" and \"?\" */\n",
              "\n",
              ".sk-estimator-doc-link,\n",
              "a:link.sk-estimator-doc-link,\n",
              "a:visited.sk-estimator-doc-link {\n",
              "  float: right;\n",
              "  font-size: smaller;\n",
              "  line-height: 1em;\n",
              "  font-family: monospace;\n",
              "  background-color: var(--sklearn-color-background);\n",
              "  border-radius: 1em;\n",
              "  height: 1em;\n",
              "  width: 1em;\n",
              "  text-decoration: none !important;\n",
              "  margin-left: 1ex;\n",
              "  /* unfitted */\n",
              "  border: var(--sklearn-color-unfitted-level-1) 1pt solid;\n",
              "  color: var(--sklearn-color-unfitted-level-1);\n",
              "}\n",
              "\n",
              ".sk-estimator-doc-link.fitted,\n",
              "a:link.sk-estimator-doc-link.fitted,\n",
              "a:visited.sk-estimator-doc-link.fitted {\n",
              "  /* fitted */\n",
              "  border: var(--sklearn-color-fitted-level-1) 1pt solid;\n",
              "  color: var(--sklearn-color-fitted-level-1);\n",
              "}\n",
              "\n",
              "/* On hover */\n",
              "div.sk-estimator:hover .sk-estimator-doc-link:hover,\n",
              ".sk-estimator-doc-link:hover,\n",
              "div.sk-label-container:hover .sk-estimator-doc-link:hover,\n",
              ".sk-estimator-doc-link:hover {\n",
              "  /* unfitted */\n",
              "  background-color: var(--sklearn-color-unfitted-level-3);\n",
              "  color: var(--sklearn-color-background);\n",
              "  text-decoration: none;\n",
              "}\n",
              "\n",
              "div.sk-estimator.fitted:hover .sk-estimator-doc-link.fitted:hover,\n",
              ".sk-estimator-doc-link.fitted:hover,\n",
              "div.sk-label-container:hover .sk-estimator-doc-link.fitted:hover,\n",
              ".sk-estimator-doc-link.fitted:hover {\n",
              "  /* fitted */\n",
              "  background-color: var(--sklearn-color-fitted-level-3);\n",
              "  color: var(--sklearn-color-background);\n",
              "  text-decoration: none;\n",
              "}\n",
              "\n",
              "/* Span, style for the box shown on hovering the info icon */\n",
              ".sk-estimator-doc-link span {\n",
              "  display: none;\n",
              "  z-index: 9999;\n",
              "  position: relative;\n",
              "  font-weight: normal;\n",
              "  right: .2ex;\n",
              "  padding: .5ex;\n",
              "  margin: .5ex;\n",
              "  width: min-content;\n",
              "  min-width: 20ex;\n",
              "  max-width: 50ex;\n",
              "  color: var(--sklearn-color-text);\n",
              "  box-shadow: 2pt 2pt 4pt #999;\n",
              "  /* unfitted */\n",
              "  background: var(--sklearn-color-unfitted-level-0);\n",
              "  border: .5pt solid var(--sklearn-color-unfitted-level-3);\n",
              "}\n",
              "\n",
              ".sk-estimator-doc-link.fitted span {\n",
              "  /* fitted */\n",
              "  background: var(--sklearn-color-fitted-level-0);\n",
              "  border: var(--sklearn-color-fitted-level-3);\n",
              "}\n",
              "\n",
              ".sk-estimator-doc-link:hover span {\n",
              "  display: block;\n",
              "}\n",
              "\n",
              "/* \"?\"-specific style due to the `<a>` HTML tag */\n",
              "\n",
              "#sk-container-id-4 a.estimator_doc_link {\n",
              "  float: right;\n",
              "  font-size: 1rem;\n",
              "  line-height: 1em;\n",
              "  font-family: monospace;\n",
              "  background-color: var(--sklearn-color-background);\n",
              "  border-radius: 1rem;\n",
              "  height: 1rem;\n",
              "  width: 1rem;\n",
              "  text-decoration: none;\n",
              "  /* unfitted */\n",
              "  color: var(--sklearn-color-unfitted-level-1);\n",
              "  border: var(--sklearn-color-unfitted-level-1) 1pt solid;\n",
              "}\n",
              "\n",
              "#sk-container-id-4 a.estimator_doc_link.fitted {\n",
              "  /* fitted */\n",
              "  border: var(--sklearn-color-fitted-level-1) 1pt solid;\n",
              "  color: var(--sklearn-color-fitted-level-1);\n",
              "}\n",
              "\n",
              "/* On hover */\n",
              "#sk-container-id-4 a.estimator_doc_link:hover {\n",
              "  /* unfitted */\n",
              "  background-color: var(--sklearn-color-unfitted-level-3);\n",
              "  color: var(--sklearn-color-background);\n",
              "  text-decoration: none;\n",
              "}\n",
              "\n",
              "#sk-container-id-4 a.estimator_doc_link.fitted:hover {\n",
              "  /* fitted */\n",
              "  background-color: var(--sklearn-color-fitted-level-3);\n",
              "}\n",
              "</style><div id=\"sk-container-id-4\" class=\"sk-top-container\"><div class=\"sk-text-repr-fallback\"><pre>Pipeline(steps=[(&#x27;transform_type_cols&#x27;,\n",
              "                 ColumnTransformer(transformers=[(&#x27;to_categorical&#x27;,\n",
              "                                                  FunctionTransformer(func=&lt;function to_categorical at 0x7b72cd5785e0&gt;),\n",
              "                                                  [&#x27;district&#x27;, &#x27;direction&#x27;,\n",
              "                                                   &#x27;bedroom&#x27;, &#x27;wc&#x27;,\n",
              "                                                   &#x27;numbers_of_floors&#x27;,\n",
              "                                                   &#x27;count_conveniences&#x27;,\n",
              "                                                   &#x27;has_rooftop&#x27;,\n",
              "                                                   &#x27;total_room_LLm&#x27;,\n",
              "                                                   &#x27;furnished&#x27;]),\n",
              "                                                 (&#x27;int_cols&#x27;, &#x27;passthrough&#x27;,\n",
              "                                                  [&#x27;area&#x27;])])),\n",
              "                (&#x27;model&#x27;,\n",
              "                 HistGradientBoostingRegressor(categorical_features=range(0, 9),\n",
              "                                               early_stopping=False,\n",
              "                                               learning_rate=0.075,\n",
              "                                               max_depth=13, max_iter=80,\n",
              "                                               min_samples_leaf=116,\n",
              "                                               random_state=42))])</pre><b>In a Jupyter environment, please rerun this cell to show the HTML representation or trust the notebook. <br />On GitHub, the HTML representation is unable to render, please try loading this page with nbviewer.org.</b></div><div class=\"sk-container\" hidden><div class=\"sk-item sk-dashed-wrapped\"><div class=\"sk-label-container\"><div class=\"sk-label  sk-toggleable\"><input class=\"sk-toggleable__control sk-hidden--visually\" id=\"sk-estimator-id-22\" type=\"checkbox\" ><label for=\"sk-estimator-id-22\" class=\"sk-toggleable__label  sk-toggleable__label-arrow \">&nbsp;&nbsp;Pipeline<a class=\"sk-estimator-doc-link \" rel=\"noreferrer\" target=\"_blank\" href=\"https://scikit-learn.org/1.5/modules/generated/sklearn.pipeline.Pipeline.html\">?<span>Documentation for Pipeline</span></a><span class=\"sk-estimator-doc-link \">i<span>Not fitted</span></span></label><div class=\"sk-toggleable__content \"><pre>Pipeline(steps=[(&#x27;transform_type_cols&#x27;,\n",
              "                 ColumnTransformer(transformers=[(&#x27;to_categorical&#x27;,\n",
              "                                                  FunctionTransformer(func=&lt;function to_categorical at 0x7b72cd5785e0&gt;),\n",
              "                                                  [&#x27;district&#x27;, &#x27;direction&#x27;,\n",
              "                                                   &#x27;bedroom&#x27;, &#x27;wc&#x27;,\n",
              "                                                   &#x27;numbers_of_floors&#x27;,\n",
              "                                                   &#x27;count_conveniences&#x27;,\n",
              "                                                   &#x27;has_rooftop&#x27;,\n",
              "                                                   &#x27;total_room_LLm&#x27;,\n",
              "                                                   &#x27;furnished&#x27;]),\n",
              "                                                 (&#x27;int_cols&#x27;, &#x27;passthrough&#x27;,\n",
              "                                                  [&#x27;area&#x27;])])),\n",
              "                (&#x27;model&#x27;,\n",
              "                 HistGradientBoostingRegressor(categorical_features=range(0, 9),\n",
              "                                               early_stopping=False,\n",
              "                                               learning_rate=0.075,\n",
              "                                               max_depth=13, max_iter=80,\n",
              "                                               min_samples_leaf=116,\n",
              "                                               random_state=42))])</pre></div> </div></div><div class=\"sk-serial\"><div class=\"sk-item sk-dashed-wrapped\"><div class=\"sk-label-container\"><div class=\"sk-label  sk-toggleable\"><input class=\"sk-toggleable__control sk-hidden--visually\" id=\"sk-estimator-id-23\" type=\"checkbox\" ><label for=\"sk-estimator-id-23\" class=\"sk-toggleable__label  sk-toggleable__label-arrow \">&nbsp;transform_type_cols: ColumnTransformer<a class=\"sk-estimator-doc-link \" rel=\"noreferrer\" target=\"_blank\" href=\"https://scikit-learn.org/1.5/modules/generated/sklearn.compose.ColumnTransformer.html\">?<span>Documentation for transform_type_cols: ColumnTransformer</span></a></label><div class=\"sk-toggleable__content \"><pre>ColumnTransformer(transformers=[(&#x27;to_categorical&#x27;,\n",
              "                                 FunctionTransformer(func=&lt;function to_categorical at 0x7b72cd5785e0&gt;),\n",
              "                                 [&#x27;district&#x27;, &#x27;direction&#x27;, &#x27;bedroom&#x27;, &#x27;wc&#x27;,\n",
              "                                  &#x27;numbers_of_floors&#x27;, &#x27;count_conveniences&#x27;,\n",
              "                                  &#x27;has_rooftop&#x27;, &#x27;total_room_LLm&#x27;,\n",
              "                                  &#x27;furnished&#x27;]),\n",
              "                                (&#x27;int_cols&#x27;, &#x27;passthrough&#x27;, [&#x27;area&#x27;])])</pre></div> </div></div><div class=\"sk-parallel\"><div class=\"sk-parallel-item\"><div class=\"sk-item\"><div class=\"sk-label-container\"><div class=\"sk-label  sk-toggleable\"><input class=\"sk-toggleable__control sk-hidden--visually\" id=\"sk-estimator-id-24\" type=\"checkbox\" ><label for=\"sk-estimator-id-24\" class=\"sk-toggleable__label  sk-toggleable__label-arrow \">to_categorical</label><div class=\"sk-toggleable__content \"><pre>[&#x27;district&#x27;, &#x27;direction&#x27;, &#x27;bedroom&#x27;, &#x27;wc&#x27;, &#x27;numbers_of_floors&#x27;, &#x27;count_conveniences&#x27;, &#x27;has_rooftop&#x27;, &#x27;total_room_LLm&#x27;, &#x27;furnished&#x27;]</pre></div> </div></div><div class=\"sk-serial\"><div class=\"sk-item\"><div class=\"sk-estimator  sk-toggleable\"><input class=\"sk-toggleable__control sk-hidden--visually\" id=\"sk-estimator-id-25\" type=\"checkbox\" ><label for=\"sk-estimator-id-25\" class=\"sk-toggleable__label  sk-toggleable__label-arrow \">&nbsp;FunctionTransformer<a class=\"sk-estimator-doc-link \" rel=\"noreferrer\" target=\"_blank\" href=\"https://scikit-learn.org/1.5/modules/generated/sklearn.preprocessing.FunctionTransformer.html\">?<span>Documentation for FunctionTransformer</span></a></label><div class=\"sk-toggleable__content \"><pre>FunctionTransformer(func=&lt;function to_categorical at 0x7b72cd5785e0&gt;)</pre></div> </div></div></div></div></div><div class=\"sk-parallel-item\"><div class=\"sk-item\"><div class=\"sk-label-container\"><div class=\"sk-label  sk-toggleable\"><input class=\"sk-toggleable__control sk-hidden--visually\" id=\"sk-estimator-id-26\" type=\"checkbox\" ><label for=\"sk-estimator-id-26\" class=\"sk-toggleable__label  sk-toggleable__label-arrow \">int_cols</label><div class=\"sk-toggleable__content \"><pre>[&#x27;area&#x27;]</pre></div> </div></div><div class=\"sk-serial\"><div class=\"sk-item\"><div class=\"sk-estimator  sk-toggleable\"><input class=\"sk-toggleable__control sk-hidden--visually\" id=\"sk-estimator-id-27\" type=\"checkbox\" ><label for=\"sk-estimator-id-27\" class=\"sk-toggleable__label  sk-toggleable__label-arrow \">passthrough</label><div class=\"sk-toggleable__content \"><pre>passthrough</pre></div> </div></div></div></div></div></div></div><div class=\"sk-item\"><div class=\"sk-estimator  sk-toggleable\"><input class=\"sk-toggleable__control sk-hidden--visually\" id=\"sk-estimator-id-28\" type=\"checkbox\" ><label for=\"sk-estimator-id-28\" class=\"sk-toggleable__label  sk-toggleable__label-arrow \">&nbsp;HistGradientBoostingRegressor<a class=\"sk-estimator-doc-link \" rel=\"noreferrer\" target=\"_blank\" href=\"https://scikit-learn.org/1.5/modules/generated/sklearn.ensemble.HistGradientBoostingRegressor.html\">?<span>Documentation for HistGradientBoostingRegressor</span></a></label><div class=\"sk-toggleable__content \"><pre>HistGradientBoostingRegressor(categorical_features=range(0, 9),\n",
              "                              early_stopping=False, learning_rate=0.075,\n",
              "                              max_depth=13, max_iter=80, min_samples_leaf=116,\n",
              "                              random_state=42)</pre></div> </div></div></div></div></div></div>"
            ],
            "text/plain": [
              "Pipeline(steps=[('transform_type_cols',\n",
              "                 ColumnTransformer(transformers=[('to_categorical',\n",
              "                                                  FunctionTransformer(func=<function to_categorical at 0x7b72cd5785e0>),\n",
              "                                                  ['district', 'direction',\n",
              "                                                   'bedroom', 'wc',\n",
              "                                                   'numbers_of_floors',\n",
              "                                                   'count_conveniences',\n",
              "                                                   'has_rooftop',\n",
              "                                                   'total_room_LLm',\n",
              "                                                   'furnished']),\n",
              "                                                 ('int_cols', 'passthrough',\n",
              "                                                  ['area'])])),\n",
              "                ('model',\n",
              "                 HistGradientBoostingRegressor(categorical_features=range(0, 9),\n",
              "                                               early_stopping=False,\n",
              "                                               learning_rate=0.075,\n",
              "                                               max_depth=13, max_iter=80,\n",
              "                                               min_samples_leaf=116,\n",
              "                                               random_state=42))])"
            ]
          },
          "execution_count": 80,
          "metadata": {},
          "output_type": "execute_result"
        }
      ],
      "source": [
        "# Thiết lập các thông số tối ưu, kết quả của bước Hyperparameter Tunning\n",
        "best_params = {\n",
        "    'model__learning_rate': 0.075,\n",
        "    'model__max_iter': 80,\n",
        "    'model__max_depth': 13,\n",
        "    'model__min_samples_leaf': 116,\n",
        "    'model__categorical_features': range(len(selected_cat_cols))\n",
        "}\n",
        "hist_native_pipeline.set_params(**best_params)"
      ]
    },
    {
      "cell_type": "markdown",
      "metadata": {
        "id": "ANkpoWvAhujq"
      },
      "source": [
        "# **2. So sánh và đánh giá**"
      ]
    },
    {
      "cell_type": "markdown",
      "metadata": {
        "id": "9ptmNQFVva0J"
      },
      "source": [
        "## **a) Xây dựng hàm so sánh**"
      ]
    },
    {
      "cell_type": "code",
      "execution_count": 81,
      "metadata": {
        "id": "mQqpL_Xju8kH"
      },
      "outputs": [],
      "source": [
        "kf = KFold(n_splits=5, shuffle=True, random_state=42)\n",
        "metrics = ['neg_mean_squared_error', 'r2']"
      ]
    },
    {
      "cell_type": "code",
      "execution_count": 82,
      "metadata": {
        "colab": {
          "base_uri": "https://localhost:8080/"
        },
        "id": "XomM4gj99HAj",
        "outputId": "9e4bb6b0-ed6d-4652-d2c8-fb8404e0557e"
      },
      "outputs": [
        {
          "name": "stderr",
          "output_type": "stream",
          "text": [
            "/usr/local/lib/python3.10/dist-packages/joblib/externals/loky/process_executor.py:752: UserWarning: A worker stopped while some jobs were given to the executor. This can be caused by a too short worker timeout or by a memory leak.\n",
            "  warnings.warn(\n"
          ]
        }
      ],
      "source": [
        "def compare_models_with_CV(model_list, X, y, cv=None, metrics=None):\n",
        "    if cv is None:\n",
        "        cv = KFold(n_splits=5, shuffle=True, random_state=42)\n",
        "    if metrics is None:\n",
        "        metrics = ['neg_mean_squared_error', 'r2']\n",
        "\n",
        "    scores_list = []\n",
        "    for model in model_list:\n",
        "        scores = cross_validate(model, X, y, cv=cv, scoring=metrics,n_jobs=-1)\n",
        "        scores_list.append(scores)\n",
        "\n",
        "    return scores_list\n",
        "\n",
        "model_list = [\n",
        "    linear_regression_pipeline,\n",
        "    lasso_regression_pipeline,\n",
        "    ridge_regression_pipeline,\n",
        "    knn_pipeline,\n",
        "    regression_tree_pipeline,\n",
        "    hist_native_pipeline,\n",
        "    random_forest_pipeline\n",
        "]\n",
        "\n",
        "scores_list = compare_models_with_CV(model_list, X, y)"
      ]
    },
    {
      "cell_type": "code",
      "execution_count": 83,
      "metadata": {
        "id": "aAwuvdGJAj3f"
      },
      "outputs": [],
      "source": [
        "def extract_scores_by_metrics(scores_list, metrics):\n",
        "    metrics.append('fit_time')\n",
        "    extracted_scores = {metric: [] for metric in metrics}\n",
        "    for scores in scores_list:\n",
        "        for metric in metrics:\n",
        "            if metric == 'fit_time':\n",
        "                extracted_scores[metric].append(scores['fit_time'])\n",
        "            else:\n",
        "                extracted_scores[metric].append(scores[f'test_{metric}'])\n",
        "    return extracted_scores\n",
        "extracted_scores = extract_scores_by_metrics(scores_list, metrics)"
      ]
    },
    {
      "cell_type": "markdown",
      "metadata": {
        "id": "UWRIsuimvhja"
      },
      "source": [
        "## **b) Trực quan kết quả**"
      ]
    },
    {
      "cell_type": "code",
      "execution_count": 84,
      "metadata": {
        "colab": {
          "base_uri": "https://localhost:8080/",
          "height": 489
        },
        "id": "P407NJbe-5M6",
        "outputId": "4c1783eb-9247-4fef-fd65-9baba0108283"
      },
      "outputs": [
        {
          "data": {
            "image/png": "[encoded data removed]",
            "text/plain": [
              "<Figure size 1000x500 with 1 Axes>"
            ]
          },
          "metadata": {},
          "output_type": "display_data"
        }
      ],
      "source": [
        "x = np.arange(1, 6, step=1)\n",
        "labels = ['Linear Regression', 'Lasso Regression', 'Ridge Regression', 'K-nearest neighbors', 'Regression Tree', 'Gradient Boosting', 'Random Forest']\n",
        "colors = [\"#00b4d8\", \"#eae2b7\", \"#fcbf49\", '#b5838d', \"#f77f00\", \"#d62828\", \"#003049\"]\n",
        "\n",
        "fig, ax = plt.subplots(figsize=(10, 5))\n",
        "for i, label in enumerate(labels):\n",
        "    ax.plot(x, -extracted_scores['neg_mean_squared_error'][i], label=label, color=colors[i], linewidth=1.5, alpha = 0.75)\n",
        "ax.spines[\"right\"].set_visible(False)\n",
        "ax.spines[\"left\"].set_visible(False)\n",
        "ax.spines[\"top\"].set_visible(False)\n",
        "\n",
        "ax.xaxis.set_ticks_position(\"bottom\")\n",
        "ax.set_xticks(np.arange(1, 6, step=1))\n",
        "ax.set_xlabel(\"Fold\", family = 'serif')\n",
        "ax.yaxis.set_ticks_position(\"left\")\n",
        "ax.set_ylabel(\"MSE\", family = 'serif')\n",
        "\n",
        "ax.legend(loc = \"upper left\",fontsize=\"5\")\n",
        "plt.title(\"MSE theo Fold (Thấp hơn thì tốt hơn)\",  family = 'serif', fontsize = 14)\n",
        "plt.show()"
      ]
    },
    {
      "cell_type": "code",
      "execution_count": 85,
      "metadata": {
        "colab": {
          "base_uri": "https://localhost:8080/",
          "height": 489
        },
        "id": "-c7l5HW-IXjL",
        "outputId": "bc7dfd2c-ffe1-40e3-9a5f-e3953aa487e9"
      },
      "outputs": [
        {
          "data": {
            "image/png": "[encoded data removed]",
            "text/plain": [
              "<Figure size 1000x500 with 1 Axes>"
            ]
          },
          "metadata": {},
          "output_type": "display_data"
        }
      ],
      "source": [
        "x = np.arange(1, 6, step=1)\n",
        "labels = ['Linear Regression', 'Lasso Regression', 'Ridge Regression', 'K-nearest neighbors', 'Regression Tree', 'Gradient Boosting', 'Random Forest']\n",
        "colors = [\"#00b4d8\", \"#eae2b7\", \"#fcbf49\", '#b5838d', \"#f77f00\", \"#d62828\", \"#003049\"]\n",
        "\n",
        "fig, ax = plt.subplots(figsize=(10, 5))\n",
        "for i, label in enumerate(labels):\n",
        "    ax.plot(x, extracted_scores['r2'][i], label=label, color=colors[i], linewidth=1.5, alpha = 0.75)\n",
        "ax.spines[\"right\"].set_visible(False)\n",
        "ax.spines[\"left\"].set_visible(False)\n",
        "ax.spines[\"top\"].set_visible(False)\n",
        "\n",
        "ax.xaxis.set_ticks_position(\"bottom\")\n",
        "ax.set_xticks(np.arange(1, 6, step=1))\n",
        "ax.set_xlabel(\"Fold\", family = 'serif')\n",
        "ax.yaxis.set_ticks_position(\"left\")\n",
        "ax.set_ylabel(\"R2\", family = 'serif')\n",
        "\n",
        "ax.legend(loc = \"upper left\",fontsize=\"5\")\n",
        "plt.title(\"R2 theo từng Fold (Cao hơn thì tốt hơn)\", family = 'serif', fontsize = 14)\n",
        "plt.show()"
      ]
    },
    {
      "cell_type": "code",
      "execution_count": 86,
      "metadata": {
        "colab": {
          "base_uri": "https://localhost:8080/",
          "height": 489
        },
        "id": "Ot3n_TQsJgp7",
        "outputId": "8c0c41ad-23a4-43bf-892f-87fe95258f8f"
      },
      "outputs": [
        {
          "data": {
            "image/png": "[encoded data removed]",
            "text/plain": [
              "<Figure size 1000x500 with 1 Axes>"
            ]
          },
          "metadata": {},
          "output_type": "display_data"
        }
      ],
      "source": [
        "x = np.arange(1, 6, step=1)\n",
        "labels = ['Linear Regression', 'Lasso Regression', 'Ridge Regression', 'K-nearest neighbors', 'Regression Tree', 'Gradient Boosting', 'Random Forest']\n",
        "colors = [\"#00b4d8\", \"#eae2b7\", \"#fcbf49\", '#b5838d', \"#f77f00\", \"#d62828\", \"#003049\"]\n",
        "\n",
        "fig, ax = plt.subplots(figsize=(10, 5))\n",
        "for i, label in enumerate(labels):\n",
        "    ax.plot(x, extracted_scores['fit_time'][i], label=label, color=colors[i], linewidth=1.5, alpha = 0.5)\n",
        "ax.spines[\"right\"].set_visible(False)\n",
        "ax.spines[\"left\"].set_visible(False)\n",
        "ax.spines[\"top\"].set_visible(False)\n",
        "\n",
        "ax.xaxis.set_ticks_position(\"bottom\")\n",
        "ax.set_xticks(np.arange(1, 6, step=1))\n",
        "ax.set_xlabel(\"Fold\", family = 'serif')\n",
        "ax.yaxis.set_ticks_position(\"left\")\n",
        "ax.set_ylabel(\"Fit_time\", family = 'serif')\n",
        "\n",
        "ax.legend(loc = \"upper left\",fontsize=\"5\")\n",
        "plt.title(\"Fit_time (Thấp hơn thì tốt hơn)\",  family = 'serif', fontsize = 14)\n",
        "plt.show()"
      ]
    },
    {
      "cell_type": "markdown",
      "metadata": {
        "id": "TC2lOQarYZrI"
      },
      "source": [
        "## **c) Đánh giá**"
      ]
    },
    {
      "cell_type": "markdown",
      "metadata": {
        "id": "oUx_rcWTYo_K"
      },
      "source": [
        "Mỗi mô hình có cách xử lý dữ liệu khác nhau. Nhằm thuận tiện cho quá trình so sánh, các mô hình được khái quát hóa thành một pipeline bao gồm tất cả các quá trình từ dữ liệu thô ban đầu đến kết quả thu được. \\\n",
        "Sử dụng cross-validation; các tham số đánh giá MSE, R2; ta thu được mô hình Gradient Boosting (sử dụng thư viện HistGradientBoostingRegressor) mang lại kết quả tốt nhất. Khi xét trên thời gian chạy. Những mô hình hồi quy đơn giản như Linear Regression, Ridge Regression, Lasso Regression mang lại thời gian thực thi nhanh hơn so với các mô hình còn lại. Điểm mạnh của mô hình GradientBoosting (HistGradientBoostingRegressor) có thời gian chạy tốt  hơn hẳn so với các mô hình dựa trên cây khác"
      ]
    }
  ],
  "metadata": {
    "colab": {
      "provenance": []
    },
    "kernelspec": {
      "display_name": "Python 3",
      "name": "python3"
    },
    "language_info": {
      "name": "python"
    }
  },
  "nbformat": 4,
  "nbformat_minor": 0
}
