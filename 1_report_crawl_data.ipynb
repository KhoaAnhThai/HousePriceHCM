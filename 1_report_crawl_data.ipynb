{
 "cells": [
  {
   "cell_type": "markdown",
   "metadata": {},
   "source": [
    "# **Crawl Data**"
   ]
  },
  {
   "cell_type": "markdown",
   "metadata": {},
   "source": [
    "1. [Sơ lược về cấu trúc trang web phục vụ cho quá trình Crawl Data](#1)      \n",
    "1. [Mục tiêu](#2) \n",
    "    1. [Mục tiêu chung](#3)\n",
    "    1. [Mục tiêu của dữ liệu được crawl](#4)\n",
    "1. [Kế hoạch thực hiện](#5) \n",
    "    1. [Cách thức thực hiện](#6)\n",
    "    1. [Các công cụ thực hiện](#7)\n",
    "1. [Quá trình thực hiện](#8)     \n",
    "    1. [Tạo danh sách url dẫn đến kết quả tìm kiếm](#9) \n",
    "    1. [Sử dụng thư viện Selenium trích xuất các đường dẫn trên](#10)\n",
    "    1. [Lấy dữ liệu từ các bài đăng chi tiết bằng BeautifulSoup](#11)   \n",
    "1. [Kết quả](#12)     \n"
   ]
  },
  {
   "cell_type": "markdown",
   "metadata": {},
   "source": [
    "## **Phần 1: Sơ lược về cấu trúc trang web phục vụ cho quá trình Craw Data** <a id=\"1\"></a> "
   ]
  },
  {
   "cell_type": "markdown",
   "metadata": {},
   "source": [
    " <div style=\"text-align: center;\">\n",
    "    <img src=\"https://github.com/KhiemDangLe/Final-Project/blob/main/image/image_for_craw_data/vi_du_mot_bai_dang.png?raw=true\" width=\"700\"/>\n",
    "</div>"
   ]
  },
  {
   "cell_type": "markdown",
   "metadata": {},
   "source": [
    "Trang web là trang web tĩnh, các class ít thay đổi, số trang và ngày đăng rõ ràng chi tiết."
   ]
  },
  {
   "cell_type": "markdown",
   "metadata": {},
   "source": [
    "## **Phần 2: Mục tiêu** <a id=\"2\"></a> \n"
   ]
  },
  {
   "cell_type": "markdown",
   "metadata": {},
   "source": [
    "### **Mục tiêu chung**\n",
    "<a id=\"3\"></a> \n",
    "- Hiểu được cấu trúc thành phần HTML, và payload  của website https://batdongsan.vn/.\n",
    "- Nêu ra được mục tiêu của dữ liệu crawl và đưa ra được dạng chuẩn mẫu của các feature crawl.\n",
    "- Tiến hành thử nghiệm một số phương pháp crawl đánh giá và so sánh và ra quyết định sử dụng phương pháp."
   ]
  },
  {
   "cell_type": "markdown",
   "metadata": {},
   "source": [
    "### **Mục tiêu của dữ liệu crawl** <a id=\"4\"></a> "
   ]
  },
  {
   "cell_type": "markdown",
   "metadata": {},
   "source": [
    "* Dữ liệu được cào sẽ được để nguyên bản và ít được xử lí. \\\n",
    "* Chỉ lấy các dữ liệu về Bất động sản ở Hồ Chí Minh. \\\n",
    "* Dữ liệu đầu ra sẽ gồm các feature chính sẽ bao gồm các cột chứa nội dung mặc định trong cột đăng bất động sản. \\\n",
    "\n",
    "Đề xuất các dữ liệu sẽ được crawl. Sẽ gồm các cột:\n",
    "- **title**: Chứa tiêu đề bài đăng\n",
    "- **article_id**: Là mã định danh của bài đăng\n",
    "- **category**: Phân loại bất động sản\n",
    "- **phone**: Số điện thoại người bán\n",
    "- **district**: Xác định ngôi nhà được bán nằm ở quận nào.\n",
    "- **date_posted**: Ngày ngôi nhà được đăng bán.\n",
    "- **price**: Là giá mà người đăng niêm yết.\n",
    "- **area**: Là diện tích của căn nhà.\n",
    "- **bedroom**: Số lượng phòng ngủ trong căn nhà.\n",
    "- **wc**: Số lượng nhà vệ sinh trong căn nhà.\n",
    "- **direction**: Phương hướng của căn nhà.\n",
    "- **balcony_direction**: Hướng của ban công căn nhà.\n",
    "- **description**: Mô tả của người đăng về căn nhà."
   ]
  },
  {
   "cell_type": "markdown",
   "metadata": {},
   "source": [
    "## **Phần 3: Kế hoạch thực hiện** <a id=\"5\"></a> \n"
   ]
  },
  {
   "cell_type": "markdown",
   "metadata": {},
   "source": [
    "Ở trang kết quả trả về, sẽ có đường dẫn tới các bằng đăng chi tiết. Tại đó, chứa các thông tin quan trọng như: Thông tin người bán, Giá tiền, diện tích, mô tả,... \n",
    "\n",
    "\n",
    "Trên trang web batdongsan.com.vn, ta có thể dễ dàng tìm thấy các danh sách các bài viết về các bất động sản theo các trường phân loại khác nhau. Kết quả tìm kiếm được trả về dưới dạng danh sách, chia thành các page. Đường dẫn đến các page kết quả có cấu trúc như sau: \n",
    "\n",
    "\n",
    "**https://batdongsan.vn/[các thuộc tính để lọc]/[số trang kết quả trả về]** \\\n",
    "*Ví dụ: https://batdongsan.vn/ban-nha-mat-pho-ho-chi-minh-duoi-500-trieu/p3* \\\n",
    "\\\n",
    "Do đó, ta có thể dựa vào đường dẫn để tìm kiếm tất cả các bài viết cần quan tâm. \n"
   ]
  },
  {
   "cell_type": "markdown",
   "metadata": {},
   "source": [
    "<div style=\"text-align: center;\">\n",
    "    <img src=\"https://github.com/KhiemDangLe/Final-Project/blob/main/image/image_for_craw_data/thanh_tim_kiem_batdongsanvn.png?raw=true\" width=\"700\"/>\n",
    "    <img src=\"https://github.com/KhiemDangLe/Final-Project/blob/main/image/image_for_craw_data/thay_doi_giua_cac_trang_ket_qua.png?raw=true\" width=\"700\"/>\n",
    "</div>"
   ]
  },
  {
   "cell_type": "markdown",
   "metadata": {},
   "source": [
    "##### **Cách thức thực hiện** <a id=\"6\"></a> \n"
   ]
  },
  {
   "cell_type": "markdown",
   "metadata": {},
   "source": [
    "* *Quá trình 1*: Dựa vào cấu trúc đường dẫn của kết quả tìm kiếm, lấy tất cả các đường dẫn của những bài đăng cần quan tâm\n",
    "* *Quá trình 2*: Sau khi đã có tất cả các đường dẫn cần thiết, lần lượt lấy các thông tin quan trọng của từng bài viết\n",
    "\n",
    "**Giải thích:**\n",
    "* Với cách thực hiện như vậy (tạm gọi: cách 1), các bước là độc lập với nhau so với cách thực hiện (tạm gọi: cách 2): craw đường dẫn của 1 bài dựa trên trang kết quả tìm kiếm, craw thông tin chi tiết của bài đăng ấy. Giả sử, sau khi đã craw được tất cả các thông tin chi tiết, ta cần craw thêm một thông tin khác như Số điện thoại người bán. Ta chỉ cần thực hiện lại Quá trình 2, mà không cần thực hiện lại Quá trình 1. Trong khi đó, nếu sử dụng cách 2, bắt buộc phải thực hiện 2 quá trình.\n",
    "* Đối với, mục nội dung tin đăng, ta sẽ lưu thành một thuộc tính. Ở những bước sau trong Project, ta sử dụng mô hình LLM để có thể trích xuất thêm các thuộc tính quan trọng\n",
    "\n"
   ]
  },
  {
   "cell_type": "markdown",
   "metadata": {},
   "source": [
    "#### **Công cụ thực hiện** <a id=\"7\"></a> "
   ]
  },
  {
   "cell_type": "markdown",
   "metadata": {},
   "source": [
    "Nhóm sử dụng cả 2 công cụ Selenim và Beautiful Soup để craw data. Sau khi hoàn thành, nhóm sẽ có thể đưa ra nhận định đơn giản, so sánh về 2 công cụ này."
   ]
  },
  {
   "cell_type": "markdown",
   "metadata": {},
   "source": [
    "## **Phần 4: Quá trình thực hiện** <a id=\"8\"></a> "
   ]
  },
  {
   "cell_type": "markdown",
   "metadata": {},
   "source": [
    "Tóm tắt quả trình thực hiện \n",
    "- Tạo danh sách kết quả tìm kiếm.\n",
    "- cài đặt công cụ tiến hành implement code.\n",
    "- Tiến hành phân tích HTML lấy ra từng link html trong một page.\n",
    "- Lưu tất cả các đường link vào trong file .\n",
    "- Sử dụng file lưu đường dẫn cụ thể của từng bất động sản.\n",
    "- Crawl và phân tích html để đưa ra các thông tin cần thiết."
   ]
  },
  {
   "cell_type": "markdown",
   "metadata": {},
   "source": [
    "#### **Tạo danh sách url dẫn đến danh sách kết quả tìm kiếm** <a id=\"9\"></a> "
   ]
  },
  {
   "cell_type": "markdown",
   "metadata": {},
   "source": [
    "Có tổng cộng 604 page"
   ]
  },
  {
   "cell_type": "code",
   "execution_count": 19,
   "metadata": {},
   "outputs": [],
   "source": [
    "url_list = ['https://batdongsan.vn/ban-nha-dat-ho-chi-minh']\n",
    "for i in range(2, 604):\n",
    "    url_list.append('https://batdongsan.vn/ban-nha-dat-ho-chi-minh/p' + str(i))"
   ]
  },
  {
   "cell_type": "markdown",
   "metadata": {},
   "source": [
    "#### **Sử dụng thư viện Selenium trích xuất các đường dẫn đến các bài đăng chi tiết** <a id=\"10\"></a> "
   ]
  },
  {
   "cell_type": "markdown",
   "metadata": {},
   "source": [
    "Để cài đặt selenium cho Google Colab, sử dụng địa chị này: https://medium.com/@MinatoNamikaze02/running-selenium-on-google-colab-a118d10ca5f8"
   ]
  },
  {
   "cell_type": "code",
   "execution_count": 20,
   "metadata": {},
   "outputs": [
    {
     "name": "stderr",
     "output_type": "stream",
     "text": [
      "UsageError: Cell magic `%%shell` not found.\n"
     ]
    }
   ],
   "source": [
    "%%shell\n",
    "sudo apt -y update\n",
    "sudo apt install -y wget curl unzip\n",
    "wget http://archive.ubuntu.com/ubuntu/pool/main/libu/libu2f-host/libu2f-udev_1.1.4-1_all.deb\n",
    "dpkg -i libu2f-udev_1.1.4-1_all.deb\n",
    "wget https://dl.google.com/linux/direct/google-chrome-stable_current_amd64.deb\n",
    "dpkg -i google-chrome-stable_current_amd64.deb\n",
    "\n",
    "wget -N https://edgedl.me.gvt1.com/edgedl/chrome/chrome-for-testing/118.0.5993.70/linux64/chromedriver-linux64.zip -P /tmp/\n",
    "unzip -o /tmp/chromedriver-linux64.zip -d /tmp/\n",
    "chmod +x /tmp/chromedriver-linux64/chromedriver\n",
    "mv /tmp/chromedriver-linux64/chromedriver /usr/local/bin/chromedriver\n",
    "pip install selenium chromedriver_autoinstaller\n",
    "\n",
    "import sys\n",
    "sys.path.insert(0,'/usr/lib/chromium-browser/chromedriver')\n",
    "\n",
    "from selenium import webdriver\n",
    "import chromedriver_autoinstaller\n",
    "\n",
    "chrome_options = webdriver.ChromeOptions()\n",
    "chrome_options.add_argument('--headless')\n",
    "chrome_options.add_argument('--no-sandbox')\n",
    "chrome_options.add_argument('--disable-dev-shm-usage')\n",
    "chromedriver_autoinstaller.install()\n"
   ]
  },
  {
   "cell_type": "code",
   "execution_count": null,
   "metadata": {},
   "outputs": [],
   "source": [
    "from selenium import webdriver\n",
    "from selenium.webdriver.common.by import By\n",
    "import pandas as pd"
   ]
  },
  {
   "cell_type": "code",
   "execution_count": null,
   "metadata": {},
   "outputs": [],
   "source": [
    "def get_data(driver, url):\n",
    "    raw_data = pd.DataFrame(columns=['title', 'price', 'area', 'time', 'page_link'])\n",
    "    driver.get(url)\n",
    "    list = driver.find_elements(By.XPATH, \"//div[@class='uk-grid uk-grid-small uk-grid-width-1-1']/div\")\n",
    "\n",
    "    for item in list:\n",
    "        # Lay title, neu khong co thi set bang None\n",
    "        try:\n",
    "            title = item.find_element(By.XPATH, \".//div[@class='name']\").text\n",
    "        except:\n",
    "            title = None\n",
    "        # Lay link, neu khong co thi set bang None\n",
    "        try:\n",
    "            page_link = item.find_element(By.XPATH, \".//div[@class='name']/a\").get_attribute('href')\n",
    "        except:\n",
    "            page_link = None\n",
    "\n",
    "        # Lay gia, neu khong co thi set bang None\n",
    "        try:\n",
    "            price = item.find_element(By.XPATH, \".//span[@class='price']\").text\n",
    "        except:\n",
    "            price = None\n",
    "\n",
    "        # Lay dien tich, neu khong co thi set bang None\n",
    "        try:\n",
    "            area = item.find_element(By.XPATH, \".//span[@class='acreage']\").text\n",
    "        except:\n",
    "            area = None\n",
    "\n",
    "        # Lay thoi gian dang tin, neu khong co thi set bang None\n",
    "        try:\n",
    "            time = item.find_element(By.XPATH, \".//time[@class='timeago']\").get_attribute('datetime')\n",
    "        except:\n",
    "            time = None\n",
    "        raw_data = raw_data._append({'title': title, 'price': price, 'area': area, 'time': time, 'page_link': page_link}, ignore_index=True)\n",
    "    return raw_data"
   ]
  },
  {
   "cell_type": "code",
   "execution_count": null,
   "metadata": {},
   "outputs": [],
   "source": [
    "\n",
    "# Tao dataframe chua du lieu\n",
    "raw_data = pd.DataFrame(columns=['title', 'price', 'area', 'time', 'page_link'])\n",
    "\n",
    "# Neu chay tren local thi dung dong nay\n",
    "#driver = webdriver.Chrome()\n",
    "\n",
    "# Neu chay collab thi dung dong nay\n",
    "#driver = webdriver.Chrome(options=chrome_options)\n",
    "\n",
    "for url in url_list:\n",
    "    raw_data = raw_data._append(get_data(driver, url), ignore_index=True)\n",
    "driver.quit()"
   ]
  },
  {
   "cell_type": "code",
   "execution_count": null,
   "metadata": {},
   "outputs": [],
   "source": [
    "# Luu file ra local\n",
    "raw_data.to_csv('raw_data.csv', index=False)\n",
    "\n",
    "# Luu file khi chay tren collab\n",
    "#from google.colab import drive\n",
    "#drive.mount('/content/drive')\n",
    "#raw_data.to_csv('/content/drive/My Drive/raw_data_p201_p604.csv', index=False)"
   ]
  },
  {
   "cell_type": "code",
   "execution_count": null,
   "metadata": {},
   "outputs": [
    {
     "data": {
      "text/html": [
       "<div>\n",
       "<style scoped>\n",
       "    .dataframe tbody tr th:only-of-type {\n",
       "        vertical-align: middle;\n",
       "    }\n",
       "\n",
       "    .dataframe tbody tr th {\n",
       "        vertical-align: top;\n",
       "    }\n",
       "\n",
       "    .dataframe thead th {\n",
       "        text-align: right;\n",
       "    }\n",
       "</style>\n",
       "<table border=\"1\" class=\"dataframe\">\n",
       "  <thead>\n",
       "    <tr style=\"text-align: right;\">\n",
       "      <th></th>\n",
       "      <th>title</th>\n",
       "      <th>price</th>\n",
       "      <th>area</th>\n",
       "      <th>time</th>\n",
       "      <th>page_link</th>\n",
       "    </tr>\n",
       "  </thead>\n",
       "  <tbody>\n",
       "    <tr>\n",
       "      <th>0</th>\n",
       "      <td>Chưa tới 30tr/m2 - Hàng ngộp bank BAO ĐẦU TƯ ...</td>\n",
       "      <td>3899000000 tỷ</td>\n",
       "      <td>150m2</td>\n",
       "      <td>2023-12-10 17:11:02</td>\n",
       "      <td>https://batdongsan.vn/chua-toi-30trm2-hang-ngo...</td>\n",
       "    </tr>\n",
       "    <tr>\n",
       "      <th>1</th>\n",
       "      <td>Bán nhà HXH Âu Cơ Phường 9 Tân Bình, 51m2 3 Tầ...</td>\n",
       "      <td>5.5 tỷ</td>\n",
       "      <td>51m2</td>\n",
       "      <td>2023-12-10 18:40:26</td>\n",
       "      <td>https://batdongsan.vn/ban-nha-hxh-au-co-phuong...</td>\n",
       "    </tr>\n",
       "    <tr>\n",
       "      <th>2</th>\n",
       "      <td>SÁT MẶT TIỀN PHAN ĐĂNG LƯU, PHƯỜNG 7, PHÚ NHUẬ...</td>\n",
       "      <td>4.6 tỷ</td>\n",
       "      <td>45m2</td>\n",
       "      <td>2023-12-10 18:56:17</td>\n",
       "      <td>https://batdongsan.vn/sat-mat-tien-phan-dang-l...</td>\n",
       "    </tr>\n",
       "    <tr>\n",
       "      <th>3</th>\n",
       "      <td>CHỦ GẤP BÁN TRƯỚC TẾT LÊ HỒNG PHONG QUẬN 5 RA ...</td>\n",
       "      <td>7.35 tỷ</td>\n",
       "      <td>41m2</td>\n",
       "      <td>2023-12-10 20:49:28</td>\n",
       "      <td>https://batdongsan.vn/chu-gap-ban-truoc-tet-le...</td>\n",
       "    </tr>\n",
       "    <tr>\n",
       "      <th>4</th>\n",
       "      <td>LŨY BÁN BÍCH,TÂN PHÚ-DIỆN TÍCH KHỦNG 96M2 ( 4....</td>\n",
       "      <td>Thỏa thuận</td>\n",
       "      <td>96m2</td>\n",
       "      <td>2023-12-07 14:13:40</td>\n",
       "      <td>https://batdongsan.vn/luy-ban-bichtan-phu-dien...</td>\n",
       "    </tr>\n",
       "  </tbody>\n",
       "</table>\n",
       "</div>"
      ],
      "text/plain": [
       "                                               title          price   area  \\\n",
       "0  Chưa tới 30tr/m2 - Hàng ngộp bank BAO ĐẦU TƯ ...  3899000000 tỷ  150m2   \n",
       "1  Bán nhà HXH Âu Cơ Phường 9 Tân Bình, 51m2 3 Tầ...         5.5 tỷ   51m2   \n",
       "2  SÁT MẶT TIỀN PHAN ĐĂNG LƯU, PHƯỜNG 7, PHÚ NHUẬ...         4.6 tỷ   45m2   \n",
       "3  CHỦ GẤP BÁN TRƯỚC TẾT LÊ HỒNG PHONG QUẬN 5 RA ...        7.35 tỷ   41m2   \n",
       "4  LŨY BÁN BÍCH,TÂN PHÚ-DIỆN TÍCH KHỦNG 96M2 ( 4....     Thỏa thuận   96m2   \n",
       "\n",
       "                  time                                          page_link  \n",
       "0  2023-12-10 17:11:02  https://batdongsan.vn/chua-toi-30trm2-hang-ngo...  \n",
       "1  2023-12-10 18:40:26  https://batdongsan.vn/ban-nha-hxh-au-co-phuong...  \n",
       "2  2023-12-10 18:56:17  https://batdongsan.vn/sat-mat-tien-phan-dang-l...  \n",
       "3  2023-12-10 20:49:28  https://batdongsan.vn/chu-gap-ban-truoc-tet-le...  \n",
       "4  2023-12-07 14:13:40  https://batdongsan.vn/luy-ban-bichtan-phu-dien...  "
      ]
     },
     "execution_count": 32,
     "metadata": {},
     "output_type": "execute_result"
    }
   ],
   "source": [
    "raw_data.head()"
   ]
  },
  {
   "cell_type": "markdown",
   "metadata": {},
   "source": [
    "Kết quả được lưu ở đường dẫn sau: https://raw.githubusercontent.com/KhiemDangLe/Final-Project/main/CrawData/grid_list_raw_data.csv"
   ]
  },
  {
   "cell_type": "markdown",
   "metadata": {},
   "source": [
    "**Nhận xét khi sử dụng Selenium:** \\\n",
    "Tuy nhiên, thư viện Selenium tiêu tốn tài nguyên hơn và thời gian chạy lâu hơn so với sử dụng thư viện request và bs4"
   ]
  },
  {
   "cell_type": "markdown",
   "metadata": {},
   "source": [
    "#### **Lấy dữ liệu từ các bài đăng chi tiết bằng BS4** <a id=\"11\"></a> "
   ]
  },
  {
   "cell_type": "code",
   "execution_count": null,
   "metadata": {},
   "outputs": [],
   "source": [
    "import pandas as pd\n",
    "raw_data = pd.read_csv('https://raw.githubusercontent.com/KhiemDangLe/Final-Project/main/grid_list_raw_data.csv', header=0)"
   ]
  },
  {
   "cell_type": "code",
   "execution_count": null,
   "metadata": {},
   "outputs": [
    {
     "data": {
      "text/html": [
       "<div>\n",
       "<style scoped>\n",
       "    .dataframe tbody tr th:only-of-type {\n",
       "        vertical-align: middle;\n",
       "    }\n",
       "\n",
       "    .dataframe tbody tr th {\n",
       "        vertical-align: top;\n",
       "    }\n",
       "\n",
       "    .dataframe thead th {\n",
       "        text-align: right;\n",
       "    }\n",
       "</style>\n",
       "<table border=\"1\" class=\"dataframe\">\n",
       "  <thead>\n",
       "    <tr style=\"text-align: right;\">\n",
       "      <th></th>\n",
       "      <th>title</th>\n",
       "      <th>price</th>\n",
       "      <th>area</th>\n",
       "      <th>time</th>\n",
       "      <th>page_link</th>\n",
       "    </tr>\n",
       "  </thead>\n",
       "  <tbody>\n",
       "    <tr>\n",
       "      <th>0</th>\n",
       "      <td>Chưa tới 30tr/m2 - Hàng ngộp bank BAO ĐẦU TƯ ...</td>\n",
       "      <td>3899000000 tỷ</td>\n",
       "      <td>150m2</td>\n",
       "      <td>2023-12-10 17:11:02</td>\n",
       "      <td>https://batdongsan.vn/chua-toi-30trm2-hang-ngo...</td>\n",
       "    </tr>\n",
       "    <tr>\n",
       "      <th>1</th>\n",
       "      <td>Bán nhà HXH Âu Cơ Phường 9 Tân Bình, 51m2 3 Tầ...</td>\n",
       "      <td>5.5 tỷ</td>\n",
       "      <td>51m2</td>\n",
       "      <td>2023-12-10 18:40:26</td>\n",
       "      <td>https://batdongsan.vn/ban-nha-hxh-au-co-phuong...</td>\n",
       "    </tr>\n",
       "    <tr>\n",
       "      <th>2</th>\n",
       "      <td>SÁT MẶT TIỀN PHAN ĐĂNG LƯU, PHƯỜNG 7, PHÚ NHUẬ...</td>\n",
       "      <td>4.6 tỷ</td>\n",
       "      <td>45m2</td>\n",
       "      <td>2023-12-10 18:56:17</td>\n",
       "      <td>https://batdongsan.vn/sat-mat-tien-phan-dang-l...</td>\n",
       "    </tr>\n",
       "    <tr>\n",
       "      <th>3</th>\n",
       "      <td>CHỦ GẤP BÁN TRƯỚC TẾT LÊ HỒNG PHONG QUẬN 5 RA ...</td>\n",
       "      <td>7.35 tỷ</td>\n",
       "      <td>41m2</td>\n",
       "      <td>2023-12-10 20:49:28</td>\n",
       "      <td>https://batdongsan.vn/chu-gap-ban-truoc-tet-le...</td>\n",
       "    </tr>\n",
       "    <tr>\n",
       "      <th>4</th>\n",
       "      <td>LŨY BÁN BÍCH,TÂN PHÚ-DIỆN TÍCH KHỦNG 96M2 ( 4....</td>\n",
       "      <td>Thỏa thuận</td>\n",
       "      <td>96m2</td>\n",
       "      <td>2023-12-07 14:13:40</td>\n",
       "      <td>https://batdongsan.vn/luy-ban-bichtan-phu-dien...</td>\n",
       "    </tr>\n",
       "  </tbody>\n",
       "</table>\n",
       "</div>"
      ],
      "text/plain": [
       "                                               title          price   area  \\\n",
       "0  Chưa tới 30tr/m2 - Hàng ngộp bank BAO ĐẦU TƯ ...  3899000000 tỷ  150m2   \n",
       "1  Bán nhà HXH Âu Cơ Phường 9 Tân Bình, 51m2 3 Tầ...         5.5 tỷ   51m2   \n",
       "2  SÁT MẶT TIỀN PHAN ĐĂNG LƯU, PHƯỜNG 7, PHÚ NHUẬ...         4.6 tỷ   45m2   \n",
       "3  CHỦ GẤP BÁN TRƯỚC TẾT LÊ HỒNG PHONG QUẬN 5 RA ...        7.35 tỷ   41m2   \n",
       "4  LŨY BÁN BÍCH,TÂN PHÚ-DIỆN TÍCH KHỦNG 96M2 ( 4....     Thỏa thuận   96m2   \n",
       "\n",
       "                  time                                          page_link  \n",
       "0  2023-12-10 17:11:02  https://batdongsan.vn/chua-toi-30trm2-hang-ngo...  \n",
       "1  2023-12-10 18:40:26  https://batdongsan.vn/ban-nha-hxh-au-co-phuong...  \n",
       "2  2023-12-10 18:56:17  https://batdongsan.vn/sat-mat-tien-phan-dang-l...  \n",
       "3  2023-12-10 20:49:28  https://batdongsan.vn/chu-gap-ban-truoc-tet-le...  \n",
       "4  2023-12-07 14:13:40  https://batdongsan.vn/luy-ban-bichtan-phu-dien...  "
      ]
     },
     "execution_count": 39,
     "metadata": {},
     "output_type": "execute_result"
    }
   ],
   "source": [
    "raw_data.head()"
   ]
  },
  {
   "cell_type": "markdown",
   "metadata": {},
   "source": [
    "Một trong những nguyên nhân làm chậm quá trình lấy dữ liêu khi sử dụng BS4 là tốc độ parsing. Để tối ưu, theo hướng dẫn từ documentation của BS4 ta sẽ sử dụng 2 thư viện là lxml và cchardet (tham khảo: https://beautiful-soup-4.readthedocs.io/en/latest/#improving-performance). Đồng thời, chúng ta sẽ sử dụng dụng đa luồng đẻ tăng tốc độ craw data."
   ]
  },
  {
   "cell_type": "code",
   "execution_count": null,
   "metadata": {},
   "outputs": [
    {
     "name": "stdout",
     "output_type": "stream",
     "text": [
      "Requirement already satisfied: lxml in c:\\users\\likgn\\onedrive - vnu-hcmus\\qua trinh hoc tap\\nam2\\kiii\\th_nmkhdl\\final-project-dsk22\\.venv\\lib\\site-packages (5.2.2)\n",
      "Collecting pyproject-toml\n",
      "  Downloading pyproject_toml-0.0.10-py3-none-any.whl.metadata (642 bytes)\n",
      "Requirement already satisfied: setuptools>=42 in c:\\users\\likgn\\onedrive - vnu-hcmus\\qua trinh hoc tap\\nam2\\kiii\\th_nmkhdl\\final-project-dsk22\\.venv\\lib\\site-packages (from pyproject-toml) (65.5.0)\n",
      "Collecting wheel (from pyproject-toml)\n",
      "  Using cached wheel-0.43.0-py3-none-any.whl.metadata (2.2 kB)\n",
      "Collecting toml (from pyproject-toml)\n",
      "  Downloading toml-0.10.2-py2.py3-none-any.whl.metadata (7.1 kB)\n",
      "Collecting jsonschema (from pyproject-toml)\n",
      "  Downloading jsonschema-4.22.0-py3-none-any.whl.metadata (8.2 kB)\n",
      "Requirement already satisfied: attrs>=22.2.0 in c:\\users\\likgn\\onedrive - vnu-hcmus\\qua trinh hoc tap\\nam2\\kiii\\th_nmkhdl\\final-project-dsk22\\.venv\\lib\\site-packages (from jsonschema->pyproject-toml) (23.2.0)\n",
      "Collecting jsonschema-specifications>=2023.03.6 (from jsonschema->pyproject-toml)\n",
      "  Using cached jsonschema_specifications-2023.12.1-py3-none-any.whl.metadata (3.0 kB)\n",
      "Collecting referencing>=0.28.4 (from jsonschema->pyproject-toml)\n",
      "  Downloading referencing-0.35.1-py3-none-any.whl.metadata (2.8 kB)\n",
      "Collecting rpds-py>=0.7.1 (from jsonschema->pyproject-toml)\n",
      "  Downloading rpds_py-0.18.1-cp311-none-win_amd64.whl.metadata (4.2 kB)\n",
      "Downloading pyproject_toml-0.0.10-py3-none-any.whl (6.9 kB)\n",
      "Downloading jsonschema-4.22.0-py3-none-any.whl (88 kB)\n",
      "   ---------------------------------------- 0.0/88.3 kB ? eta -:--:--\n",
      "   ------------------ --------------------- 41.0/88.3 kB 991.0 kB/s eta 0:00:01\n",
      "   ------------------ --------------------- 41.0/88.3 kB 991.0 kB/s eta 0:00:01\n",
      "   ------------------ --------------------- 41.0/88.3 kB 991.0 kB/s eta 0:00:01\n",
      "   ---------------------------------------- 88.3/88.3 kB 500.5 kB/s eta 0:00:00\n",
      "Downloading toml-0.10.2-py2.py3-none-any.whl (16 kB)\n",
      "Using cached wheel-0.43.0-py3-none-any.whl (65 kB)\n",
      "Using cached jsonschema_specifications-2023.12.1-py3-none-any.whl (18 kB)\n",
      "Downloading referencing-0.35.1-py3-none-any.whl (26 kB)\n",
      "Downloading rpds_py-0.18.1-cp311-none-win_amd64.whl (209 kB)\n",
      "   ---------------------------------------- 0.0/209.0 kB ? eta -:--:--\n",
      "   ----------------- ---------------------- 92.2/209.0 kB 1.8 MB/s eta 0:00:01\n",
      "   ---------------------------------------- 209.0/209.0 kB 2.1 MB/s eta 0:00:00\n",
      "Installing collected packages: wheel, toml, rpds-py, referencing, jsonschema-specifications, jsonschema, pyproject-toml\n",
      "Successfully installed jsonschema-4.22.0 jsonschema-specifications-2023.12.1 pyproject-toml-0.0.10 referencing-0.35.1 rpds-py-0.18.1 toml-0.10.2 wheel-0.43.0\n",
      "Collecting cchardet\n",
      "  Using cached cchardet-2.1.7.tar.gz (653 kB)\n",
      "  Preparing metadata (setup.py): started\n",
      "  Preparing metadata (setup.py): finished with status 'done'\n",
      "Building wheels for collected packages: cchardet\n",
      "  Building wheel for cchardet (setup.py): started\n",
      "  Building wheel for cchardet (setup.py): finished with status 'error'\n",
      "  Running setup.py clean for cchardet\n",
      "Failed to build cchardet\n"
     ]
    },
    {
     "name": "stderr",
     "output_type": "stream",
     "text": [
      "  error: subprocess-exited-with-error\n",
      "  \n",
      "  × python setup.py bdist_wheel did not run successfully.\n",
      "  │ exit code: 1\n",
      "  ╰─> [22 lines of output]\n",
      "      running bdist_wheel\n",
      "      running build\n",
      "      running build_py\n",
      "      creating build\n",
      "      creating build\\lib.win-amd64-cpython-311\n",
      "      creating build\\lib.win-amd64-cpython-311\\cchardet\n",
      "      copying src\\cchardet\\version.py -> build\\lib.win-amd64-cpython-311\\cchardet\n",
      "      copying src\\cchardet\\__init__.py -> build\\lib.win-amd64-cpython-311\\cchardet\n",
      "      running build_ext\n",
      "      building 'cchardet._cchardet' extension\n",
      "      creating build\\temp.win-amd64-cpython-311\n",
      "      creating build\\temp.win-amd64-cpython-311\\Release\n",
      "      creating build\\temp.win-amd64-cpython-311\\Release\\src\n",
      "      creating build\\temp.win-amd64-cpython-311\\Release\\src\\cchardet\n",
      "      creating build\\temp.win-amd64-cpython-311\\Release\\src\\ext\n",
      "      creating build\\temp.win-amd64-cpython-311\\Release\\src\\ext\\uchardet\n",
      "      creating build\\temp.win-amd64-cpython-311\\Release\\src\\ext\\uchardet\\src\n",
      "      creating build\\temp.win-amd64-cpython-311\\Release\\src\\ext\\uchardet\\src\\LangModels\n",
      "      \"C:\\Program Files\\Microsoft Visual Studio\\2022\\Community\\VC\\Tools\\MSVC\\14.39.33519\\bin\\HostX86\\x64\\cl.exe\" /c /nologo /O2 /W3 /GL /DNDEBUG /MD -Isrc/ext/uchardet/src \"-Ic:\\Users\\likgn\\OneDrive - VNU-HCMUS\\Qua Trinh Hoc Tap\\Nam2\\KiII\\TH_NMKHDL\\Final-Project-DSK22\\.venv\\include\" \"-IC:\\Program Files\\WindowsApps\\PythonSoftwareFoundation.Python.3.11_3.11.2544.0_x64__qbz5n2kfra8p0\\include\" \"-IC:\\Program Files\\WindowsApps\\PythonSoftwareFoundation.Python.3.11_3.11.2544.0_x64__qbz5n2kfra8p0\\Include\" \"-IC:\\Program Files\\Microsoft Visual Studio\\2022\\Community\\VC\\Tools\\MSVC\\14.39.33519\\include\" \"-IC:\\Program Files\\Microsoft Visual Studio\\2022\\Community\\VC\\Tools\\MSVC\\14.39.33519\\ATLMFC\\include\" \"-IC:\\Program Files\\Microsoft Visual Studio\\2022\\Community\\VC\\Auxiliary\\VS\\include\" \"-IC:\\Program Files (x86)\\Windows Kits\\10\\include\\10.0.22621.0\\ucrt\" \"-IC:\\Program Files (x86)\\Windows Kits\\10\\\\include\\10.0.22621.0\\\\um\" \"-IC:\\Program Files (x86)\\Windows Kits\\10\\\\include\\10.0.22621.0\\\\shared\" \"-IC:\\Program Files (x86)\\Windows Kits\\10\\\\include\\10.0.22621.0\\\\winrt\" \"-IC:\\Program Files (x86)\\Windows Kits\\10\\\\include\\10.0.22621.0\\\\cppwinrt\" \"-IC:\\Program Files (x86)\\Windows Kits\\NETFXSDK\\4.8\\include\\um\" /EHsc /Tpsrc/cchardet\\_cchardet.cpp /Fobuild\\temp.win-amd64-cpython-311\\Release\\src/cchardet\\_cchardet.obj\n",
      "      _cchardet.cpp\n",
      "      src/cchardet\\_cchardet.cpp(196): fatal error C1083: Cannot open include file: 'longintrepr.h': No such file or directory\n",
      "      error: command 'C:\\\\Program Files\\\\Microsoft Visual Studio\\\\2022\\\\Community\\\\VC\\\\Tools\\\\MSVC\\\\14.39.33519\\\\bin\\\\HostX86\\\\x64\\\\cl.exe' failed with exit code 2\n",
      "      [end of output]\n",
      "  \n",
      "  note: This error originates from a subprocess, and is likely not a problem with pip.\n",
      "  ERROR: Failed building wheel for cchardet\n",
      "ERROR: Could not build wheels for cchardet, which is required to install pyproject.toml-based projects\n"
     ]
    }
   ],
   "source": [
    "!pip install beautifulsoup4 --quiet\n",
    "!pip install lxml --quiet\n",
    "!pip install pyproject-toml --quiet\n",
    "!pip install cython --quiet\n",
    "!pip install cchardet --quiet"
   ]
  },
  {
   "cell_type": "code",
   "execution_count": null,
   "metadata": {},
   "outputs": [],
   "source": [
    "import requests\n",
    "from bs4 import BeautifulSoup\n",
    "import lxml\n",
    "import cchardet\n",
    "import re\n",
    "import pandas as pd\n",
    "import multiprocessing as mp\n",
    "\n",
    "def get_detail_data(url):\n",
    "    page = requests.get(url)\n",
    "    soup = BeautifulSoup(page.content, 'lxml')\n",
    "\n",
    "    # header\n",
    "    try:\n",
    "        header = soup.find('ul', class_='uk-breadcrumb').find_all('li')\n",
    "        category = header[1].text[4:]\n",
    "        district = header[3].text\n",
    "    except:\n",
    "        category = None\n",
    "        district = None\n",
    "\n",
    "    # panel\n",
    "    try:\n",
    "        panel = soup.find('div', class_='landtech-container').find('div', class_='uk-panel')\n",
    "        title = panel.find('h1', class_='uk-panel-title').get_text()\n",
    "        price = panel.find('strong', class_='price').get_text()\n",
    "        price = re.sub('[\\n\\t]+', '', price)\n",
    "        date_posted = panel.find('time', class_='timeago').get('datetime')\n",
    "        date_posted = re.search('(\\d{4}-\\d{2}-\\d{2})', date_posted).group(1)\n",
    "        panel = panel.get_text()\n",
    "    except:\n",
    "        panel = None\n",
    "        title = None\n",
    "        date_posted = None\n",
    "        price = None\n",
    "    try:\n",
    "        area = re.search('(\\d+\\.*\\d*) m2', panel).group(1)\n",
    "    except:\n",
    "        area = None\n",
    "    try:\n",
    "        bedroom = re.search('(\\d+) PN', panel).group(1)\n",
    "    except:\n",
    "        bedroom = None\n",
    "    try:\n",
    "        wc = re.search('(\\d+) WC', panel).group(1)\n",
    "    except:\n",
    "        wc = None\n",
    "    try:\n",
    "        direction = re.search('Hướng nhà:\\s([^\\s]+)', panel).group(1)\n",
    "    except:\n",
    "        direction = None\n",
    "    try:\n",
    "        balcony_direction = re.search('Hướng ban công:\\s([^\\s]+)', panel).group(1)\n",
    "    except:\n",
    "        balcony_direction = None\n",
    "    try:\n",
    "        article_id = re.search('Mã tin:\\s([^\\s]+)', panel).group(1)\n",
    "    except:\n",
    "        article_id = None\n",
    "    \n",
    "    try:\n",
    "        information = soup.find('div', class_='landtech-container').find('div', class_='uk-width-medium-3-5').find('div', class_='uk-width-medium-2-5').find('div', class_='body')\n",
    "        phone = information.find('div', class_= 'more phone').get_text()\n",
    "        phone = re.search(r'(\\d+)', phone).group(1)\n",
    "    except:\n",
    "        phone = None\n",
    "    try:\n",
    "      description = soup.find_all('div', class_='landtech-container')[1].find('div', class_='content').get_text()\n",
    "      description = re.sub('[\\n \\t \\r \\+\\-#,]+', ' ', description)\n",
    "    except:\n",
    "      description = None\n",
    "\n",
    "    return pd.DataFrame([{\n",
    "        'page_link': url,\n",
    "        'title': title,\n",
    "        'article_id': article_id,\n",
    "        'category': category,\n",
    "        'phone': phone,\n",
    "        'district': district,\n",
    "        'date_posted': date_posted,\n",
    "        'price': price,\n",
    "        'area': area,\n",
    "        'bedroom': bedroom,\n",
    "        'wc': wc,\n",
    "        'direction': direction,\n",
    "        'balcony_direction': balcony_direction,\n",
    "        'description': description\n",
    "    }])\n",
    "\n",
    "def parallel_get_detail_data(url_list):\n",
    "    with mp.Pool(processes=20) as pool:\n",
    "        results = pool.map(get_detail_data, url_list)\n",
    "    return pd.concat(results, ignore_index=True)"
   ]
  },
  {
   "cell_type": "code",
   "execution_count": null,
   "metadata": {},
   "outputs": [],
   "source": [
    "raw_detail_data = pd.DataFrame(columns=['page_link', 'article_id', 'title', 'category', 'phone', 'district', 'date_posted', 'price', 'area', 'bedroom', 'wc', 'direction', 'balcony_direction', 'description'])\n",
    "raw_detail_data = parallel_get_detail_data(raw_data['page_link'])"
   ]
  },
  {
   "cell_type": "code",
   "execution_count": null,
   "metadata": {},
   "outputs": [],
   "source": [
    "raw_detail_data.to_csv('raw_detail_data.csv', index=False)"
   ]
  },
  {
   "cell_type": "markdown",
   "metadata": {},
   "source": [
    "**Nhận xét khi sử dụng Beautiful Soup** \\\n",
    "Khi so sánh với Selenium, Beautiful Soup chỉ có những chức năng đơn giản. Tuy nhiên, đó là điểm mạnh của Beautiful Soup ở Project này. Sau khi thực hiện tối ưu theo như tài liệu của BS4, chạy đa luồng, thực thi Code trên nền tảng Collab; tốc độ craw khoảng 12 nghìn bài đăng chỉ trong khoảng 1 tiếng. Tất nhiên, thời gian craw data còn phụ thuộc vào tốc độ phản hồi của website"
   ]
  },
  {
   "cell_type": "markdown",
   "metadata": {},
   "source": [
    "| Tính năng | Beautiful Soup | Selenium |\n",
    "| --- | --- | --- |\n",
    "| Độ dễ sử dụng | Dễ sử dụng và học tập | Yêu cầu cài đặt và cấu hình nhiều hơn |\n",
    "| Hiệu quả với trang web tĩnh | Hiệu quả | Không hiệu quả bằng |\n",
    "| Yêu cầu cài đặt trình duyệt | Không | Có |\n",
    "| Tương tác với trang web động (JavaScript) | Không | Có |\n",
    "| Khả năng tự động hóa | Giới hạn (ví dụ: không thể điền biểu mẫu, nhấp chuột) | Nâng cao (có thể tự động hóa các tác vụ phức tạp như điền biểu mẫu, nhấp chuột, cuộn trang, v.v.) |\n",
    "| Hiệu suất | Nhanh hơn | Chậm hơn (do phải khởi động trình duyệt) |\n",
    "| Trường hợp sử dụng | - Trích xuất dữ liệu từ trang web tĩnh<br>- Phân tích cú pháp HTML/XML mà không cần tương tác | - Tương tác với trang web động (JavaScript)<br>- Tự động hóa các tác vụ phức tạp (điền biểu mẫu, nhấp chuột, v.v.) |"
   ]
  },
  {
   "cell_type": "markdown",
   "metadata": {},
   "source": [
    "**Kết Luận Phương Pháp**: Vì Web bất động sản là web tĩnh, ít chạy javascript và không bị chặn request; nên sử dụng thư viện request cùng với Beautiful Soup là phù hợp hơn"
   ]
  },
  {
   "cell_type": "markdown",
   "metadata": {},
   "source": [
    "## **Phần 5: Kết Quả** <a id=\"12\"></a> "
   ]
  },
  {
   "cell_type": "markdown",
   "metadata": {},
   "source": [
    "Dữ liệu thô sau khi craw data, có thể truy cập ở đường dẫn sau: https://raw.githubusercontent.com/KhiemDangLe/Final-Project/main/CrawData/raw_full_detail_data.csv"
   ]
  },
  {
   "cell_type": "code",
   "execution_count": null,
   "metadata": {},
   "outputs": [
    {
     "data": {
      "text/html": [
       "<div>\n",
       "<style scoped>\n",
       "    .dataframe tbody tr th:only-of-type {\n",
       "        vertical-align: middle;\n",
       "    }\n",
       "\n",
       "    .dataframe tbody tr th {\n",
       "        vertical-align: top;\n",
       "    }\n",
       "\n",
       "    .dataframe thead th {\n",
       "        text-align: right;\n",
       "    }\n",
       "</style>\n",
       "<table border=\"1\" class=\"dataframe\">\n",
       "  <thead>\n",
       "    <tr style=\"text-align: right;\">\n",
       "      <th></th>\n",
       "      <th>page_link</th>\n",
       "      <th>title</th>\n",
       "      <th>article_id</th>\n",
       "      <th>category</th>\n",
       "      <th>phone</th>\n",
       "      <th>district</th>\n",
       "      <th>date_posted</th>\n",
       "      <th>price</th>\n",
       "      <th>area</th>\n",
       "      <th>bedroom</th>\n",
       "      <th>wc</th>\n",
       "      <th>direction</th>\n",
       "      <th>balcony_direction</th>\n",
       "      <th>description</th>\n",
       "    </tr>\n",
       "  </thead>\n",
       "  <tbody>\n",
       "    <tr>\n",
       "      <th>0</th>\n",
       "      <td>https://batdongsan.vn/chua-toi-30trm2-hang-ngo...</td>\n",
       "      <td>Chưa tới 30tr/m2 - Hàng ngộp bank BAO ĐẦU TƯ ...</td>\n",
       "      <td>285164.0</td>\n",
       "      <td>Nhà riêng</td>\n",
       "      <td>933670051.0</td>\n",
       "      <td>Nhà Bè</td>\n",
       "      <td>2023-12-10</td>\n",
       "      <td>3899000000 tỷ</td>\n",
       "      <td>150.0</td>\n",
       "      <td>2.0</td>\n",
       "      <td>1.0</td>\n",
       "      <td>NaN</td>\n",
       "      <td>NaN</td>\n",
       "      <td>Mô tả: Thông số cực đẹp 5 x 30m (150m2) Nh...</td>\n",
       "    </tr>\n",
       "    <tr>\n",
       "      <th>1</th>\n",
       "      <td>https://batdongsan.vn/ban-nha-hxh-au-co-phuong...</td>\n",
       "      <td>Bán nhà HXH Âu Cơ Phường 9 Tân Bình, 51m2 3 Tầ...</td>\n",
       "      <td>285163.0</td>\n",
       "      <td>Nhà riêng</td>\n",
       "      <td>922351398.0</td>\n",
       "      <td>Tân Bình</td>\n",
       "      <td>2023-12-10</td>\n",
       "      <td>5.5 tỷ</td>\n",
       "      <td>51.0</td>\n",
       "      <td>NaN</td>\n",
       "      <td>NaN</td>\n",
       "      <td>NaN</td>\n",
       "      <td>NaN</td>\n",
       "      <td>Bán nhà HXH Âu Cơ Phường 9 Tân Bình 51m2 3 Tầ...</td>\n",
       "    </tr>\n",
       "    <tr>\n",
       "      <th>2</th>\n",
       "      <td>https://batdongsan.vn/sat-mat-tien-phan-dang-l...</td>\n",
       "      <td>SÁT MẶT TIỀN PHAN ĐĂNG LƯU, PHƯỜNG 7, PHÚ NHUẬ...</td>\n",
       "      <td>285162.0</td>\n",
       "      <td>Nhà</td>\n",
       "      <td>907340956.0</td>\n",
       "      <td>Phú Nhuận</td>\n",
       "      <td>2023-12-10</td>\n",
       "      <td>4.6 tỷ</td>\n",
       "      <td>45.0</td>\n",
       "      <td>2.0</td>\n",
       "      <td>2.0</td>\n",
       "      <td>NaN</td>\n",
       "      <td>NaN</td>\n",
       "      <td>Kết cấu: 1 trệt 1 lầu BTCT; 2 PN 2 WC. Phòng ...</td>\n",
       "    </tr>\n",
       "    <tr>\n",
       "      <th>3</th>\n",
       "      <td>https://batdongsan.vn/chu-gap-ban-truoc-tet-le...</td>\n",
       "      <td>CHỦ GẤP BÁN TRƯỚC TẾT LÊ HỒNG PHONG QUẬN 5 RA ...</td>\n",
       "      <td>285161.0</td>\n",
       "      <td>Nhà riêng</td>\n",
       "      <td>849734646.0</td>\n",
       "      <td>Quận 5</td>\n",
       "      <td>2023-12-10</td>\n",
       "      <td>7.35 tỷ</td>\n",
       "      <td>41.0</td>\n",
       "      <td>NaN</td>\n",
       "      <td>NaN</td>\n",
       "      <td>NaN</td>\n",
       "      <td>NaN</td>\n",
       "      <td>Mô tả: Diện tích công nhận 41m thực tế 66m ng...</td>\n",
       "    </tr>\n",
       "    <tr>\n",
       "      <th>4</th>\n",
       "      <td>https://batdongsan.vn/luy-ban-bichtan-phu-dien...</td>\n",
       "      <td>LŨY BÁN BÍCH,TÂN PHÚ-DIỆN TÍCH KHỦNG 96M2 ( 4....</td>\n",
       "      <td>285159.0</td>\n",
       "      <td>Nhà riêng</td>\n",
       "      <td>899892121.0</td>\n",
       "      <td>Tân Phú</td>\n",
       "      <td>2023-12-07</td>\n",
       "      <td>Thỏa thuận</td>\n",
       "      <td>96.0</td>\n",
       "      <td>2.0</td>\n",
       "      <td>1.0</td>\n",
       "      <td>NaN</td>\n",
       "      <td>NaN</td>\n",
       "      <td>Diện tích 96m2 ngang 4.3m dài 22.5m . sổ vuôn...</td>\n",
       "    </tr>\n",
       "  </tbody>\n",
       "</table>\n",
       "</div>"
      ],
      "text/plain": [
       "                                           page_link  \\\n",
       "0  https://batdongsan.vn/chua-toi-30trm2-hang-ngo...   \n",
       "1  https://batdongsan.vn/ban-nha-hxh-au-co-phuong...   \n",
       "2  https://batdongsan.vn/sat-mat-tien-phan-dang-l...   \n",
       "3  https://batdongsan.vn/chu-gap-ban-truoc-tet-le...   \n",
       "4  https://batdongsan.vn/luy-ban-bichtan-phu-dien...   \n",
       "\n",
       "                                               title  article_id   category  \\\n",
       "0  Chưa tới 30tr/m2 - Hàng ngộp bank BAO ĐẦU TƯ ...    285164.0  Nhà riêng   \n",
       "1  Bán nhà HXH Âu Cơ Phường 9 Tân Bình, 51m2 3 Tầ...    285163.0  Nhà riêng   \n",
       "2  SÁT MẶT TIỀN PHAN ĐĂNG LƯU, PHƯỜNG 7, PHÚ NHUẬ...    285162.0        Nhà   \n",
       "3  CHỦ GẤP BÁN TRƯỚC TẾT LÊ HỒNG PHONG QUẬN 5 RA ...    285161.0  Nhà riêng   \n",
       "4  LŨY BÁN BÍCH,TÂN PHÚ-DIỆN TÍCH KHỦNG 96M2 ( 4....    285159.0  Nhà riêng   \n",
       "\n",
       "         phone   district date_posted          price   area  bedroom   wc  \\\n",
       "0  933670051.0     Nhà Bè  2023-12-10  3899000000 tỷ  150.0      2.0  1.0   \n",
       "1  922351398.0   Tân Bình  2023-12-10         5.5 tỷ   51.0      NaN  NaN   \n",
       "2  907340956.0  Phú Nhuận  2023-12-10         4.6 tỷ   45.0      2.0  2.0   \n",
       "3  849734646.0     Quận 5  2023-12-10        7.35 tỷ   41.0      NaN  NaN   \n",
       "4  899892121.0    Tân Phú  2023-12-07     Thỏa thuận   96.0      2.0  1.0   \n",
       "\n",
       "  direction balcony_direction  \\\n",
       "0       NaN               NaN   \n",
       "1       NaN               NaN   \n",
       "2       NaN               NaN   \n",
       "3       NaN               NaN   \n",
       "4       NaN               NaN   \n",
       "\n",
       "                                         description  \n",
       "0   Mô tả: Thông số cực đẹp 5 x 30m (150m2) Nh...  \n",
       "1   Bán nhà HXH Âu Cơ Phường 9 Tân Bình 51m2 3 Tầ...  \n",
       "2   Kết cấu: 1 trệt 1 lầu BTCT; 2 PN 2 WC. Phòng ...  \n",
       "3   Mô tả: Diện tích công nhận 41m thực tế 66m ng...  \n",
       "4   Diện tích 96m2 ngang 4.3m dài 22.5m . sổ vuôn...  "
      ]
     },
     "execution_count": 4,
     "metadata": {},
     "output_type": "execute_result"
    }
   ],
   "source": [
    "check_data = pd.read_csv('https://raw.githubusercontent.com/KhiemDangLe/Final-Project/main/CrawData/raw_full_detail_data.csv')\n",
    "check_data.head()"
   ]
  }
 ],
 "metadata": {
  "kernelspec": {
   "display_name": ".venv",
   "language": "python",
   "name": "python3"
  },
  "language_info": {
   "codemirror_mode": {
    "name": "ipython",
    "version": 3
   },
   "file_extension": ".py",
   "mimetype": "text/x-python",
   "name": "python",
   "nbconvert_exporter": "python",
   "pygments_lexer": "ipython3",
   "version": "3.11.9"
  }
 },
 "nbformat": 4,
 "nbformat_minor": 2
}
